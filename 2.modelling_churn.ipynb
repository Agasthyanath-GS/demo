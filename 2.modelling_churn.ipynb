{
 "cells": [
  {
   "cell_type": "markdown",
   "metadata": {},
   "source": [
    "#### Client: No-Churn Telecom | Category: Telecom – Churn Rate ML\n",
    "####               Project Ref: PM-PR-0017"
   ]
  },
  {
   "cell_type": "markdown",
   "metadata": {},
   "source": [
    "No-Churn wants to explore possibility of Machine Learning to help with following use cases to retain competitive edge in the industry."
   ]
  },
  {
   "cell_type": "markdown",
   "metadata": {},
   "source": [
    "1. Understanding the variables that are influencing the customersto migrate.\n",
    "2. Creating Churn risk scores that can be indicative to driveretention campaigns.\n",
    "3. Introduce new predicting variable “CHURN-FLAG” with valuesYES(1) or NO(0) so that email campaigns with lucrative offers can    be targeted to Churn YES customers\n",
    "4. Exporting the trained model with prediction capability for CHURN-FLAG, which can be highlighted in service applications to      serve the customer better."
   ]
  },
  {
   "cell_type": "markdown",
   "metadata": {},
   "source": [
    "This is the second part of the modelling first part deals with the downloading of the data from the server and this part deals with the modlling of the data set"
   ]
  },
  {
   "cell_type": "markdown",
   "metadata": {},
   "source": [
    "# 1.Importing Packages "
   ]
  },
  {
   "cell_type": "code",
   "execution_count": 1,
   "metadata": {},
   "outputs": [],
   "source": [
    "import numpy as np\n",
    "import pandas as pd\n",
    "import pylab\n",
    "from scipy import stats\n",
    "from category_encoders import BinaryEncoder\n",
    "from sklearn.feature_selection import VarianceThreshold\n",
    "import seaborn as sb\n",
    "import matplotlib.pyplot as plt\n",
    "from matplotlib.pyplot import colormaps\n",
    "import warnings\n",
    "import math\n",
    "from sklearn.preprocessing import StandardScaler\n",
    "from collections import Counter\n",
    "from sklearn.linear_model import LogisticRegression\n",
    "from sklearn.ensemble import RandomForestClassifier\n",
    "from sklearn.neighbors import KNeighborsClassifier\n",
    "from xgboost import XGBClassifier\n",
    "from sklearn.svm import SVC\n",
    "from sklearn.metrics import accuracy_score,classification_report\n",
    "from imblearn.over_sampling import SMOTE\n",
    "from sklearn.model_selection import cross_val_score\n",
    "from sklearn.model_selection import GridSearchCV\n",
    "from sklearn.model_selection import RandomizedSearchCV\n",
    "from sklearn.model_selection import train_test_split\n",
    "import pickle as pkl"
   ]
  },
  {
   "cell_type": "code",
   "execution_count": 2,
   "metadata": {},
   "outputs": [],
   "source": [
    "warnings.filterwarnings(\"ignore\")"
   ]
  },
  {
   "cell_type": "markdown",
   "metadata": {},
   "source": [
    "# 2.Import Data_Set"
   ]
  },
  {
   "cell_type": "code",
   "execution_count": 3,
   "metadata": {},
   "outputs": [
    {
     "data": {
      "text/html": [
       "<div>\n",
       "<style scoped>\n",
       "    .dataframe tbody tr th:only-of-type {\n",
       "        vertical-align: middle;\n",
       "    }\n",
       "\n",
       "    .dataframe tbody tr th {\n",
       "        vertical-align: top;\n",
       "    }\n",
       "\n",
       "    .dataframe thead th {\n",
       "        text-align: right;\n",
       "    }\n",
       "</style>\n",
       "<table border=\"1\" class=\"dataframe\">\n",
       "  <thead>\n",
       "    <tr style=\"text-align: right;\">\n",
       "      <th></th>\n",
       "      <th>Unnamed: 0</th>\n",
       "      <th>State</th>\n",
       "      <th>Account_Length</th>\n",
       "      <th>Area_Code</th>\n",
       "      <th>Phone</th>\n",
       "      <th>International_Plan</th>\n",
       "      <th>VMail_Plan</th>\n",
       "      <th>VMail_Message</th>\n",
       "      <th>Day_Mins</th>\n",
       "      <th>Day_Calls</th>\n",
       "      <th>...</th>\n",
       "      <th>Eve_Calls</th>\n",
       "      <th>Eve_Charge</th>\n",
       "      <th>Night_Mins</th>\n",
       "      <th>Night_Calls</th>\n",
       "      <th>Night_Charge</th>\n",
       "      <th>International_Mins</th>\n",
       "      <th>International_calls</th>\n",
       "      <th>International_Charge</th>\n",
       "      <th>CustServ_Calls</th>\n",
       "      <th>Churn</th>\n",
       "    </tr>\n",
       "  </thead>\n",
       "  <tbody>\n",
       "    <tr>\n",
       "      <th>0</th>\n",
       "      <td>0</td>\n",
       "      <td>KS</td>\n",
       "      <td>128</td>\n",
       "      <td>415</td>\n",
       "      <td>382-4657</td>\n",
       "      <td>no</td>\n",
       "      <td>yes</td>\n",
       "      <td>25</td>\n",
       "      <td>265.1</td>\n",
       "      <td>110</td>\n",
       "      <td>...</td>\n",
       "      <td>99</td>\n",
       "      <td>16.78</td>\n",
       "      <td>244.7</td>\n",
       "      <td>91</td>\n",
       "      <td>11.01</td>\n",
       "      <td>10.0</td>\n",
       "      <td>3</td>\n",
       "      <td>2.70</td>\n",
       "      <td>1</td>\n",
       "      <td>False.</td>\n",
       "    </tr>\n",
       "    <tr>\n",
       "      <th>1</th>\n",
       "      <td>1</td>\n",
       "      <td>OH</td>\n",
       "      <td>107</td>\n",
       "      <td>415</td>\n",
       "      <td>371-7191</td>\n",
       "      <td>no</td>\n",
       "      <td>yes</td>\n",
       "      <td>26</td>\n",
       "      <td>161.6</td>\n",
       "      <td>123</td>\n",
       "      <td>...</td>\n",
       "      <td>103</td>\n",
       "      <td>16.62</td>\n",
       "      <td>254.4</td>\n",
       "      <td>103</td>\n",
       "      <td>11.45</td>\n",
       "      <td>13.7</td>\n",
       "      <td>3</td>\n",
       "      <td>3.70</td>\n",
       "      <td>1</td>\n",
       "      <td>False.</td>\n",
       "    </tr>\n",
       "    <tr>\n",
       "      <th>2</th>\n",
       "      <td>2</td>\n",
       "      <td>NJ</td>\n",
       "      <td>137</td>\n",
       "      <td>415</td>\n",
       "      <td>358-1921</td>\n",
       "      <td>no</td>\n",
       "      <td>no</td>\n",
       "      <td>0</td>\n",
       "      <td>243.4</td>\n",
       "      <td>114</td>\n",
       "      <td>...</td>\n",
       "      <td>110</td>\n",
       "      <td>10.30</td>\n",
       "      <td>162.6</td>\n",
       "      <td>104</td>\n",
       "      <td>7.32</td>\n",
       "      <td>12.2</td>\n",
       "      <td>5</td>\n",
       "      <td>3.29</td>\n",
       "      <td>0</td>\n",
       "      <td>False.</td>\n",
       "    </tr>\n",
       "    <tr>\n",
       "      <th>3</th>\n",
       "      <td>3</td>\n",
       "      <td>OH</td>\n",
       "      <td>84</td>\n",
       "      <td>408</td>\n",
       "      <td>375-9999</td>\n",
       "      <td>yes</td>\n",
       "      <td>no</td>\n",
       "      <td>0</td>\n",
       "      <td>299.4</td>\n",
       "      <td>71</td>\n",
       "      <td>...</td>\n",
       "      <td>88</td>\n",
       "      <td>5.26</td>\n",
       "      <td>196.9</td>\n",
       "      <td>89</td>\n",
       "      <td>8.86</td>\n",
       "      <td>6.6</td>\n",
       "      <td>7</td>\n",
       "      <td>1.78</td>\n",
       "      <td>2</td>\n",
       "      <td>False.</td>\n",
       "    </tr>\n",
       "    <tr>\n",
       "      <th>4</th>\n",
       "      <td>4</td>\n",
       "      <td>OK</td>\n",
       "      <td>75</td>\n",
       "      <td>415</td>\n",
       "      <td>330-6626</td>\n",
       "      <td>yes</td>\n",
       "      <td>no</td>\n",
       "      <td>0</td>\n",
       "      <td>166.7</td>\n",
       "      <td>113</td>\n",
       "      <td>...</td>\n",
       "      <td>122</td>\n",
       "      <td>12.61</td>\n",
       "      <td>186.9</td>\n",
       "      <td>121</td>\n",
       "      <td>8.41</td>\n",
       "      <td>10.1</td>\n",
       "      <td>3</td>\n",
       "      <td>2.73</td>\n",
       "      <td>3</td>\n",
       "      <td>False.</td>\n",
       "    </tr>\n",
       "  </tbody>\n",
       "</table>\n",
       "<p>5 rows × 22 columns</p>\n",
       "</div>"
      ],
      "text/plain": [
       "   Unnamed: 0 State  Account_Length  Area_Code      Phone International_Plan  \\\n",
       "0           0    KS             128        415   382-4657                 no   \n",
       "1           1    OH             107        415   371-7191                 no   \n",
       "2           2    NJ             137        415   358-1921                 no   \n",
       "3           3    OH              84        408   375-9999                yes   \n",
       "4           4    OK              75        415   330-6626                yes   \n",
       "\n",
       "  VMail_Plan  VMail_Message  Day_Mins  Day_Calls  ...  Eve_Calls  Eve_Charge  \\\n",
       "0        yes             25     265.1        110  ...         99       16.78   \n",
       "1        yes             26     161.6        123  ...        103       16.62   \n",
       "2         no              0     243.4        114  ...        110       10.30   \n",
       "3         no              0     299.4         71  ...         88        5.26   \n",
       "4         no              0     166.7        113  ...        122       12.61   \n",
       "\n",
       "   Night_Mins  Night_Calls  Night_Charge  International_Mins  \\\n",
       "0       244.7           91         11.01                10.0   \n",
       "1       254.4          103         11.45                13.7   \n",
       "2       162.6          104          7.32                12.2   \n",
       "3       196.9           89          8.86                 6.6   \n",
       "4       186.9          121          8.41                10.1   \n",
       "\n",
       "   International_calls  International_Charge  CustServ_Calls    Churn  \n",
       "0                    3                  2.70               1   False.  \n",
       "1                    3                  3.70               1   False.  \n",
       "2                    5                  3.29               0   False.  \n",
       "3                    7                  1.78               2   False.  \n",
       "4                    3                  2.73               3   False.  \n",
       "\n",
       "[5 rows x 22 columns]"
      ]
     },
     "execution_count": 3,
     "metadata": {},
     "output_type": "execute_result"
    }
   ],
   "source": [
    "main_data = pd.read_csv(\"churn_data.csv\")\n",
    "data = main_data.copy()\n",
    "data.head()"
   ]
  },
  {
   "cell_type": "markdown",
   "metadata": {},
   "source": [
    "# 3. EDA checks "
   ]
  },
  {
   "cell_type": "code",
   "execution_count": 4,
   "metadata": {},
   "outputs": [
    {
     "data": {
      "text/plain": [
       "(4617, 22)"
      ]
     },
     "execution_count": 4,
     "metadata": {},
     "output_type": "execute_result"
    }
   ],
   "source": [
    "data.shape"
   ]
  },
  {
   "cell_type": "code",
   "execution_count": 5,
   "metadata": {},
   "outputs": [
    {
     "data": {
      "text/plain": [
       "Unnamed: 0              0\n",
       "State                   0\n",
       "Account_Length          0\n",
       "Area_Code               0\n",
       "Phone                   0\n",
       "International_Plan      0\n",
       "VMail_Plan              0\n",
       "VMail_Message           0\n",
       "Day_Mins                0\n",
       "Day_Calls               0\n",
       "Day_Charge              0\n",
       "Eve_Mins                0\n",
       "Eve_Calls               0\n",
       "Eve_Charge              0\n",
       "Night_Mins              0\n",
       "Night_Calls             0\n",
       "Night_Charge            0\n",
       "International_Mins      0\n",
       "International_calls     0\n",
       "International_Charge    0\n",
       "CustServ_Calls          0\n",
       "Churn                   0\n",
       "dtype: int64"
      ]
     },
     "execution_count": 5,
     "metadata": {},
     "output_type": "execute_result"
    }
   ],
   "source": [
    "data.isnull().sum()"
   ]
  },
  {
   "cell_type": "markdown",
   "metadata": {},
   "source": [
    "Hence there is no NAN values present hence we doesn't need to handle the NAN values"
   ]
  },
  {
   "cell_type": "markdown",
   "metadata": {},
   "source": [
    "## Encoding"
   ]
  },
  {
   "cell_type": "code",
   "execution_count": 6,
   "metadata": {},
   "outputs": [],
   "source": [
    "object_variables = data.select_dtypes(exclude=\"number\").columns"
   ]
  },
  {
   "cell_type": "code",
   "execution_count": 7,
   "metadata": {},
   "outputs": [
    {
     "data": {
      "text/plain": [
       "Index(['State', 'Phone', 'International_Plan', 'VMail_Plan', 'Churn'], dtype='object')"
      ]
     },
     "execution_count": 7,
     "metadata": {},
     "output_type": "execute_result"
    }
   ],
   "source": [
    "object_variables"
   ]
  },
  {
   "cell_type": "markdown",
   "metadata": {},
   "source": [
    "these features are to be encoded, because these are the object based categorical values"
   ]
  },
  {
   "cell_type": "markdown",
   "metadata": {},
   "source": [
    "***-> Considering International_Plan for encoding***"
   ]
  },
  {
   "cell_type": "code",
   "execution_count": 8,
   "metadata": {},
   "outputs": [
    {
     "data": {
      "text/plain": [
       " no     4171\n",
       " yes     446\n",
       "Name: International_Plan, dtype: int64"
      ]
     },
     "execution_count": 8,
     "metadata": {},
     "output_type": "execute_result"
    }
   ],
   "source": [
    "data.International_Plan.value_counts()"
   ]
  },
  {
   "cell_type": "markdown",
   "metadata": {},
   "source": [
    "International_Plan is a nominal categorical with object type values , hence we are using One Hot Encoding technique"
   ]
  },
  {
   "cell_type": "code",
   "execution_count": 9,
   "metadata": {},
   "outputs": [],
   "source": [
    "data[\"International_Plan\"] = pd.get_dummies(data.International_Plan,drop_first=True)"
   ]
  },
  {
   "cell_type": "markdown",
   "metadata": {},
   "source": [
    "***-> Considering VMail_Plan for encoding***"
   ]
  },
  {
   "cell_type": "code",
   "execution_count": 10,
   "metadata": {},
   "outputs": [
    {
     "data": {
      "text/plain": [
       " no     3381\n",
       " yes    1236\n",
       "Name: VMail_Plan, dtype: int64"
      ]
     },
     "execution_count": 10,
     "metadata": {},
     "output_type": "execute_result"
    }
   ],
   "source": [
    "data.VMail_Plan.value_counts()"
   ]
  },
  {
   "cell_type": "markdown",
   "metadata": {},
   "source": [
    "VMail_Plan is a nominal categorical with object type values , hence we are using One Hot Encoding technique"
   ]
  },
  {
   "cell_type": "code",
   "execution_count": 11,
   "metadata": {},
   "outputs": [],
   "source": [
    "data[\"VMail_Plan\"] = pd.get_dummies(data.VMail_Plan,drop_first=True)"
   ]
  },
  {
   "cell_type": "markdown",
   "metadata": {},
   "source": [
    "***-> Considering Churn for encoding***"
   ]
  },
  {
   "cell_type": "code",
   "execution_count": 12,
   "metadata": {},
   "outputs": [
    {
     "data": {
      "text/plain": [
       " False.    3961\n",
       " True.      656\n",
       "Name: Churn, dtype: int64"
      ]
     },
     "execution_count": 12,
     "metadata": {},
     "output_type": "execute_result"
    }
   ],
   "source": [
    "data.Churn.value_counts()"
   ]
  },
  {
   "cell_type": "markdown",
   "metadata": {},
   "source": [
    "Churn is a nominal categorical with object type values , hence we are using One Hot Encoding technique"
   ]
  },
  {
   "cell_type": "code",
   "execution_count": 13,
   "metadata": {},
   "outputs": [],
   "source": [
    "data[\"Churn\"] = pd.get_dummies(data.Churn,drop_first=True)"
   ]
  },
  {
   "cell_type": "markdown",
   "metadata": {},
   "source": [
    "***-> Considering State for encoding***"
   ]
  },
  {
   "cell_type": "code",
   "execution_count": 14,
   "metadata": {},
   "outputs": [
    {
     "name": "stdout",
     "output_type": "stream",
     "text": [
      "['KS' 'OH' 'NJ' 'OK' 'AL' 'MA' 'MO' 'LA' 'WV' 'IN' 'RI' 'IA' 'MT' 'NY'\n",
      " 'ID' 'VT' 'VA' 'TX' 'FL' 'CO' 'AZ' 'SC' 'NE' 'WY' 'HI' 'IL' 'NH' 'GA'\n",
      " 'AK' 'MD' 'AR' 'WI' 'OR' 'MI' 'DE' 'UT' 'CA' 'MN' 'SD' 'NC' 'WA' 'NM'\n",
      " 'NV' 'DC' 'KY' 'ME' 'MS' 'TN' 'PA' 'CT' 'ND']\n",
      "\n",
      "total no of categories  =  51\n"
     ]
    }
   ],
   "source": [
    "print(data.State.unique())\n",
    "print(\"\\ntotal no of categories  = \",len(data.State.unique()))"
   ]
  },
  {
   "cell_type": "markdown",
   "metadata": {},
   "source": [
    "State is a nominal categorical with object type values , hence the category count is large we cannot use One HOt Encoding technique so here we are considering mean encoding"
   ]
  },
  {
   "cell_type": "markdown",
   "metadata": {},
   "source": [
    "####  MEAN_ENCODING TECHNIQUE"
   ]
  },
  {
   "cell_type": "code",
   "execution_count": 15,
   "metadata": {},
   "outputs": [
    {
     "data": {
      "text/plain": [
       "array([0.07246377, 0.0877193 , 0.19480519, 0.08641975, 0.29545455,\n",
       "       0.10989011, 0.15217391, 0.1097561 , 0.15730337, 0.14117647,\n",
       "       0.12987013, 0.06329114, 0.09230769, 0.11818182, 0.08860759,\n",
       "       0.14606742, 0.1875    , 0.14444444, 0.09589041, 0.1443299 ,\n",
       "       0.2173913 , 0.18947368, 0.17346939, 0.16071429, 0.13095238,\n",
       "       0.17582418, 0.20652174, 0.14457831, 0.0875    , 0.07594937,\n",
       "       0.12087912, 0.23584906, 0.0952381 , 0.19101124, 0.16513761,\n",
       "       0.13636364, 0.1588785 , 0.11764706, 0.07777778, 0.19277108,\n",
       "       0.15789474, 0.22857143, 0.15384615, 0.05504587, 0.10526316,\n",
       "       0.23595506, 0.08080808, 0.1409396 , 0.09433962])"
      ]
     },
     "execution_count": 15,
     "metadata": {},
     "output_type": "execute_result"
    }
   ],
   "source": [
    "mean_enc_State = data.groupby([\"State\"])[\"Churn\"].mean()\n",
    "mean_enc_State.unique()"
   ]
  },
  {
   "cell_type": "code",
   "execution_count": 16,
   "metadata": {},
   "outputs": [
    {
     "name": "stdout",
     "output_type": "stream",
     "text": [
      " Category length of States Feature in data before encoding =  51\n",
      " Category length of States Feature in data after encoding =  49\n"
     ]
    }
   ],
   "source": [
    "print(\" Category length of States Feature in data before encoding = \",len(data.State.unique()))\n",
    "print(\" Category length of States Feature in data after encoding = \",len(mean_enc_State.unique()))"
   ]
  },
  {
   "cell_type": "markdown",
   "metadata": {},
   "source": [
    "Hence from above output it is clear that while doing mean encoding we are loosing data ie., we are loosing two categories as compared to main feaure so we cannot use mean encoding for this data_feature now we are considering Binary Encoder "
   ]
  },
  {
   "cell_type": "markdown",
   "metadata": {},
   "source": [
    "#### Binary_Encoder"
   ]
  },
  {
   "cell_type": "code",
   "execution_count": 17,
   "metadata": {},
   "outputs": [
    {
     "data": {
      "text/html": [
       "<div>\n",
       "<style scoped>\n",
       "    .dataframe tbody tr th:only-of-type {\n",
       "        vertical-align: middle;\n",
       "    }\n",
       "\n",
       "    .dataframe tbody tr th {\n",
       "        vertical-align: top;\n",
       "    }\n",
       "\n",
       "    .dataframe thead th {\n",
       "        text-align: right;\n",
       "    }\n",
       "</style>\n",
       "<table border=\"1\" class=\"dataframe\">\n",
       "  <thead>\n",
       "    <tr style=\"text-align: right;\">\n",
       "      <th></th>\n",
       "      <th>State_0</th>\n",
       "      <th>State_1</th>\n",
       "      <th>State_2</th>\n",
       "      <th>State_3</th>\n",
       "      <th>State_4</th>\n",
       "      <th>State_5</th>\n",
       "      <th>State_6</th>\n",
       "    </tr>\n",
       "  </thead>\n",
       "  <tbody>\n",
       "    <tr>\n",
       "      <th>0</th>\n",
       "      <td>0</td>\n",
       "      <td>0</td>\n",
       "      <td>0</td>\n",
       "      <td>0</td>\n",
       "      <td>0</td>\n",
       "      <td>0</td>\n",
       "      <td>1</td>\n",
       "    </tr>\n",
       "    <tr>\n",
       "      <th>1</th>\n",
       "      <td>0</td>\n",
       "      <td>0</td>\n",
       "      <td>0</td>\n",
       "      <td>0</td>\n",
       "      <td>0</td>\n",
       "      <td>1</td>\n",
       "      <td>0</td>\n",
       "    </tr>\n",
       "    <tr>\n",
       "      <th>2</th>\n",
       "      <td>0</td>\n",
       "      <td>0</td>\n",
       "      <td>0</td>\n",
       "      <td>0</td>\n",
       "      <td>0</td>\n",
       "      <td>1</td>\n",
       "      <td>1</td>\n",
       "    </tr>\n",
       "    <tr>\n",
       "      <th>3</th>\n",
       "      <td>0</td>\n",
       "      <td>0</td>\n",
       "      <td>0</td>\n",
       "      <td>0</td>\n",
       "      <td>0</td>\n",
       "      <td>1</td>\n",
       "      <td>0</td>\n",
       "    </tr>\n",
       "    <tr>\n",
       "      <th>4</th>\n",
       "      <td>0</td>\n",
       "      <td>0</td>\n",
       "      <td>0</td>\n",
       "      <td>0</td>\n",
       "      <td>1</td>\n",
       "      <td>0</td>\n",
       "      <td>0</td>\n",
       "    </tr>\n",
       "  </tbody>\n",
       "</table>\n",
       "</div>"
      ],
      "text/plain": [
       "   State_0  State_1  State_2  State_3  State_4  State_5  State_6\n",
       "0        0        0        0        0        0        0        1\n",
       "1        0        0        0        0        0        1        0\n",
       "2        0        0        0        0        0        1        1\n",
       "3        0        0        0        0        0        1        0\n",
       "4        0        0        0        0        1        0        0"
      ]
     },
     "execution_count": 17,
     "metadata": {},
     "output_type": "execute_result"
    }
   ],
   "source": [
    "enc = BinaryEncoder()\n",
    "enc_out = enc.fit_transform(data.State)\n",
    "enc_out.head()"
   ]
  },
  {
   "cell_type": "code",
   "execution_count": 18,
   "metadata": {},
   "outputs": [],
   "source": [
    "#joining the data with the encoded output\n",
    "data = data.join(enc_out)"
   ]
  },
  {
   "cell_type": "code",
   "execution_count": 19,
   "metadata": {},
   "outputs": [],
   "source": [
    "#droping the old data feature(State)\n",
    "data.drop(columns=\"State\",inplace=True,axis=1)"
   ]
  },
  {
   "cell_type": "code",
   "execution_count": 20,
   "metadata": {},
   "outputs": [
    {
     "data": {
      "text/html": [
       "<div>\n",
       "<style scoped>\n",
       "    .dataframe tbody tr th:only-of-type {\n",
       "        vertical-align: middle;\n",
       "    }\n",
       "\n",
       "    .dataframe tbody tr th {\n",
       "        vertical-align: top;\n",
       "    }\n",
       "\n",
       "    .dataframe thead th {\n",
       "        text-align: right;\n",
       "    }\n",
       "</style>\n",
       "<table border=\"1\" class=\"dataframe\">\n",
       "  <thead>\n",
       "    <tr style=\"text-align: right;\">\n",
       "      <th></th>\n",
       "      <th>Unnamed: 0</th>\n",
       "      <th>Account_Length</th>\n",
       "      <th>Area_Code</th>\n",
       "      <th>Phone</th>\n",
       "      <th>International_Plan</th>\n",
       "      <th>VMail_Plan</th>\n",
       "      <th>VMail_Message</th>\n",
       "      <th>Day_Mins</th>\n",
       "      <th>Day_Calls</th>\n",
       "      <th>Day_Charge</th>\n",
       "      <th>...</th>\n",
       "      <th>International_Charge</th>\n",
       "      <th>CustServ_Calls</th>\n",
       "      <th>Churn</th>\n",
       "      <th>State_0</th>\n",
       "      <th>State_1</th>\n",
       "      <th>State_2</th>\n",
       "      <th>State_3</th>\n",
       "      <th>State_4</th>\n",
       "      <th>State_5</th>\n",
       "      <th>State_6</th>\n",
       "    </tr>\n",
       "  </thead>\n",
       "  <tbody>\n",
       "    <tr>\n",
       "      <th>0</th>\n",
       "      <td>0</td>\n",
       "      <td>128</td>\n",
       "      <td>415</td>\n",
       "      <td>382-4657</td>\n",
       "      <td>0</td>\n",
       "      <td>1</td>\n",
       "      <td>25</td>\n",
       "      <td>265.1</td>\n",
       "      <td>110</td>\n",
       "      <td>45.07</td>\n",
       "      <td>...</td>\n",
       "      <td>2.70</td>\n",
       "      <td>1</td>\n",
       "      <td>0</td>\n",
       "      <td>0</td>\n",
       "      <td>0</td>\n",
       "      <td>0</td>\n",
       "      <td>0</td>\n",
       "      <td>0</td>\n",
       "      <td>0</td>\n",
       "      <td>1</td>\n",
       "    </tr>\n",
       "    <tr>\n",
       "      <th>1</th>\n",
       "      <td>1</td>\n",
       "      <td>107</td>\n",
       "      <td>415</td>\n",
       "      <td>371-7191</td>\n",
       "      <td>0</td>\n",
       "      <td>1</td>\n",
       "      <td>26</td>\n",
       "      <td>161.6</td>\n",
       "      <td>123</td>\n",
       "      <td>27.47</td>\n",
       "      <td>...</td>\n",
       "      <td>3.70</td>\n",
       "      <td>1</td>\n",
       "      <td>0</td>\n",
       "      <td>0</td>\n",
       "      <td>0</td>\n",
       "      <td>0</td>\n",
       "      <td>0</td>\n",
       "      <td>0</td>\n",
       "      <td>1</td>\n",
       "      <td>0</td>\n",
       "    </tr>\n",
       "    <tr>\n",
       "      <th>2</th>\n",
       "      <td>2</td>\n",
       "      <td>137</td>\n",
       "      <td>415</td>\n",
       "      <td>358-1921</td>\n",
       "      <td>0</td>\n",
       "      <td>0</td>\n",
       "      <td>0</td>\n",
       "      <td>243.4</td>\n",
       "      <td>114</td>\n",
       "      <td>41.38</td>\n",
       "      <td>...</td>\n",
       "      <td>3.29</td>\n",
       "      <td>0</td>\n",
       "      <td>0</td>\n",
       "      <td>0</td>\n",
       "      <td>0</td>\n",
       "      <td>0</td>\n",
       "      <td>0</td>\n",
       "      <td>0</td>\n",
       "      <td>1</td>\n",
       "      <td>1</td>\n",
       "    </tr>\n",
       "    <tr>\n",
       "      <th>3</th>\n",
       "      <td>3</td>\n",
       "      <td>84</td>\n",
       "      <td>408</td>\n",
       "      <td>375-9999</td>\n",
       "      <td>1</td>\n",
       "      <td>0</td>\n",
       "      <td>0</td>\n",
       "      <td>299.4</td>\n",
       "      <td>71</td>\n",
       "      <td>50.90</td>\n",
       "      <td>...</td>\n",
       "      <td>1.78</td>\n",
       "      <td>2</td>\n",
       "      <td>0</td>\n",
       "      <td>0</td>\n",
       "      <td>0</td>\n",
       "      <td>0</td>\n",
       "      <td>0</td>\n",
       "      <td>0</td>\n",
       "      <td>1</td>\n",
       "      <td>0</td>\n",
       "    </tr>\n",
       "    <tr>\n",
       "      <th>4</th>\n",
       "      <td>4</td>\n",
       "      <td>75</td>\n",
       "      <td>415</td>\n",
       "      <td>330-6626</td>\n",
       "      <td>1</td>\n",
       "      <td>0</td>\n",
       "      <td>0</td>\n",
       "      <td>166.7</td>\n",
       "      <td>113</td>\n",
       "      <td>28.34</td>\n",
       "      <td>...</td>\n",
       "      <td>2.73</td>\n",
       "      <td>3</td>\n",
       "      <td>0</td>\n",
       "      <td>0</td>\n",
       "      <td>0</td>\n",
       "      <td>0</td>\n",
       "      <td>0</td>\n",
       "      <td>1</td>\n",
       "      <td>0</td>\n",
       "      <td>0</td>\n",
       "    </tr>\n",
       "  </tbody>\n",
       "</table>\n",
       "<p>5 rows × 28 columns</p>\n",
       "</div>"
      ],
      "text/plain": [
       "   Unnamed: 0  Account_Length  Area_Code      Phone  International_Plan  \\\n",
       "0           0             128        415   382-4657                   0   \n",
       "1           1             107        415   371-7191                   0   \n",
       "2           2             137        415   358-1921                   0   \n",
       "3           3              84        408   375-9999                   1   \n",
       "4           4              75        415   330-6626                   1   \n",
       "\n",
       "   VMail_Plan  VMail_Message  Day_Mins  Day_Calls  Day_Charge  ...  \\\n",
       "0           1             25     265.1        110       45.07  ...   \n",
       "1           1             26     161.6        123       27.47  ...   \n",
       "2           0              0     243.4        114       41.38  ...   \n",
       "3           0              0     299.4         71       50.90  ...   \n",
       "4           0              0     166.7        113       28.34  ...   \n",
       "\n",
       "   International_Charge  CustServ_Calls  Churn  State_0  State_1  State_2  \\\n",
       "0                  2.70               1      0        0        0        0   \n",
       "1                  3.70               1      0        0        0        0   \n",
       "2                  3.29               0      0        0        0        0   \n",
       "3                  1.78               2      0        0        0        0   \n",
       "4                  2.73               3      0        0        0        0   \n",
       "\n",
       "   State_3  State_4  State_5  State_6  \n",
       "0        0        0        0        1  \n",
       "1        0        0        1        0  \n",
       "2        0        0        1        1  \n",
       "3        0        0        1        0  \n",
       "4        0        1        0        0  \n",
       "\n",
       "[5 rows x 28 columns]"
      ]
     },
     "execution_count": 20,
     "metadata": {},
     "output_type": "execute_result"
    }
   ],
   "source": [
    "data.head()"
   ]
  },
  {
   "cell_type": "code",
   "execution_count": null,
   "metadata": {},
   "outputs": [],
   "source": []
  },
  {
   "cell_type": "markdown",
   "metadata": {},
   "source": [
    "# 4.FEATURE_ENGINEERING"
   ]
  },
  {
   "cell_type": "markdown",
   "metadata": {},
   "source": [
    "Feature_Engineering contains some techniques like Feature_Extraction,Feature_reduction,Normality etc.."
   ]
  },
  {
   "cell_type": "markdown",
   "metadata": {},
   "source": [
    "## * 1. Feature_Extraction"
   ]
  },
  {
   "cell_type": "markdown",
   "metadata": {},
   "source": [
    "In this data set we can consider feature \" phone \" to extract some data . ie,. phone containds two part hence the first part is of locality code that is same for the numbers which are in same locality hence we can use that as a new feature"
   ]
  },
  {
   "cell_type": "code",
   "execution_count": 21,
   "metadata": {},
   "outputs": [
    {
     "data": {
      "text/plain": [
       "96"
      ]
     },
     "execution_count": 21,
     "metadata": {},
     "output_type": "execute_result"
    }
   ],
   "source": [
    "new_feature = [str(i).split(sep=\"-\")[0] for i in data.Phone]\n",
    "new_feature = [int(i) for i  in new_feature]\n",
    "data[\"Phone\"]= pd.DataFrame(new_feature,columns=[\"Phone\"])\n",
    "len(data.Phone.unique())"
   ]
  },
  {
   "cell_type": "code",
   "execution_count": 22,
   "metadata": {},
   "outputs": [
    {
     "data": {
      "text/html": [
       "<div>\n",
       "<style scoped>\n",
       "    .dataframe tbody tr th:only-of-type {\n",
       "        vertical-align: middle;\n",
       "    }\n",
       "\n",
       "    .dataframe tbody tr th {\n",
       "        vertical-align: top;\n",
       "    }\n",
       "\n",
       "    .dataframe thead th {\n",
       "        text-align: right;\n",
       "    }\n",
       "</style>\n",
       "<table border=\"1\" class=\"dataframe\">\n",
       "  <thead>\n",
       "    <tr style=\"text-align: right;\">\n",
       "      <th></th>\n",
       "      <th>Unnamed: 0</th>\n",
       "      <th>Account_Length</th>\n",
       "      <th>Area_Code</th>\n",
       "      <th>Phone</th>\n",
       "      <th>International_Plan</th>\n",
       "      <th>VMail_Plan</th>\n",
       "      <th>VMail_Message</th>\n",
       "      <th>Day_Mins</th>\n",
       "      <th>Day_Calls</th>\n",
       "      <th>Day_Charge</th>\n",
       "      <th>...</th>\n",
       "      <th>International_Charge</th>\n",
       "      <th>CustServ_Calls</th>\n",
       "      <th>Churn</th>\n",
       "      <th>State_0</th>\n",
       "      <th>State_1</th>\n",
       "      <th>State_2</th>\n",
       "      <th>State_3</th>\n",
       "      <th>State_4</th>\n",
       "      <th>State_5</th>\n",
       "      <th>State_6</th>\n",
       "    </tr>\n",
       "  </thead>\n",
       "  <tbody>\n",
       "    <tr>\n",
       "      <th>0</th>\n",
       "      <td>0</td>\n",
       "      <td>128</td>\n",
       "      <td>415</td>\n",
       "      <td>382</td>\n",
       "      <td>0</td>\n",
       "      <td>1</td>\n",
       "      <td>25</td>\n",
       "      <td>265.1</td>\n",
       "      <td>110</td>\n",
       "      <td>45.07</td>\n",
       "      <td>...</td>\n",
       "      <td>2.70</td>\n",
       "      <td>1</td>\n",
       "      <td>0</td>\n",
       "      <td>0</td>\n",
       "      <td>0</td>\n",
       "      <td>0</td>\n",
       "      <td>0</td>\n",
       "      <td>0</td>\n",
       "      <td>0</td>\n",
       "      <td>1</td>\n",
       "    </tr>\n",
       "    <tr>\n",
       "      <th>1</th>\n",
       "      <td>1</td>\n",
       "      <td>107</td>\n",
       "      <td>415</td>\n",
       "      <td>371</td>\n",
       "      <td>0</td>\n",
       "      <td>1</td>\n",
       "      <td>26</td>\n",
       "      <td>161.6</td>\n",
       "      <td>123</td>\n",
       "      <td>27.47</td>\n",
       "      <td>...</td>\n",
       "      <td>3.70</td>\n",
       "      <td>1</td>\n",
       "      <td>0</td>\n",
       "      <td>0</td>\n",
       "      <td>0</td>\n",
       "      <td>0</td>\n",
       "      <td>0</td>\n",
       "      <td>0</td>\n",
       "      <td>1</td>\n",
       "      <td>0</td>\n",
       "    </tr>\n",
       "    <tr>\n",
       "      <th>2</th>\n",
       "      <td>2</td>\n",
       "      <td>137</td>\n",
       "      <td>415</td>\n",
       "      <td>358</td>\n",
       "      <td>0</td>\n",
       "      <td>0</td>\n",
       "      <td>0</td>\n",
       "      <td>243.4</td>\n",
       "      <td>114</td>\n",
       "      <td>41.38</td>\n",
       "      <td>...</td>\n",
       "      <td>3.29</td>\n",
       "      <td>0</td>\n",
       "      <td>0</td>\n",
       "      <td>0</td>\n",
       "      <td>0</td>\n",
       "      <td>0</td>\n",
       "      <td>0</td>\n",
       "      <td>0</td>\n",
       "      <td>1</td>\n",
       "      <td>1</td>\n",
       "    </tr>\n",
       "    <tr>\n",
       "      <th>3</th>\n",
       "      <td>3</td>\n",
       "      <td>84</td>\n",
       "      <td>408</td>\n",
       "      <td>375</td>\n",
       "      <td>1</td>\n",
       "      <td>0</td>\n",
       "      <td>0</td>\n",
       "      <td>299.4</td>\n",
       "      <td>71</td>\n",
       "      <td>50.90</td>\n",
       "      <td>...</td>\n",
       "      <td>1.78</td>\n",
       "      <td>2</td>\n",
       "      <td>0</td>\n",
       "      <td>0</td>\n",
       "      <td>0</td>\n",
       "      <td>0</td>\n",
       "      <td>0</td>\n",
       "      <td>0</td>\n",
       "      <td>1</td>\n",
       "      <td>0</td>\n",
       "    </tr>\n",
       "    <tr>\n",
       "      <th>4</th>\n",
       "      <td>4</td>\n",
       "      <td>75</td>\n",
       "      <td>415</td>\n",
       "      <td>330</td>\n",
       "      <td>1</td>\n",
       "      <td>0</td>\n",
       "      <td>0</td>\n",
       "      <td>166.7</td>\n",
       "      <td>113</td>\n",
       "      <td>28.34</td>\n",
       "      <td>...</td>\n",
       "      <td>2.73</td>\n",
       "      <td>3</td>\n",
       "      <td>0</td>\n",
       "      <td>0</td>\n",
       "      <td>0</td>\n",
       "      <td>0</td>\n",
       "      <td>0</td>\n",
       "      <td>1</td>\n",
       "      <td>0</td>\n",
       "      <td>0</td>\n",
       "    </tr>\n",
       "  </tbody>\n",
       "</table>\n",
       "<p>5 rows × 28 columns</p>\n",
       "</div>"
      ],
      "text/plain": [
       "   Unnamed: 0  Account_Length  Area_Code  Phone  International_Plan  \\\n",
       "0           0             128        415    382                   0   \n",
       "1           1             107        415    371                   0   \n",
       "2           2             137        415    358                   0   \n",
       "3           3              84        408    375                   1   \n",
       "4           4              75        415    330                   1   \n",
       "\n",
       "   VMail_Plan  VMail_Message  Day_Mins  Day_Calls  Day_Charge  ...  \\\n",
       "0           1             25     265.1        110       45.07  ...   \n",
       "1           1             26     161.6        123       27.47  ...   \n",
       "2           0              0     243.4        114       41.38  ...   \n",
       "3           0              0     299.4         71       50.90  ...   \n",
       "4           0              0     166.7        113       28.34  ...   \n",
       "\n",
       "   International_Charge  CustServ_Calls  Churn  State_0  State_1  State_2  \\\n",
       "0                  2.70               1      0        0        0        0   \n",
       "1                  3.70               1      0        0        0        0   \n",
       "2                  3.29               0      0        0        0        0   \n",
       "3                  1.78               2      0        0        0        0   \n",
       "4                  2.73               3      0        0        0        0   \n",
       "\n",
       "   State_3  State_4  State_5  State_6  \n",
       "0        0        0        0        1  \n",
       "1        0        0        1        0  \n",
       "2        0        0        1        1  \n",
       "3        0        0        1        0  \n",
       "4        0        1        0        0  \n",
       "\n",
       "[5 rows x 28 columns]"
      ]
     },
     "execution_count": 22,
     "metadata": {},
     "output_type": "execute_result"
    }
   ],
   "source": [
    "data.head()"
   ]
  },
  {
   "cell_type": "markdown",
   "metadata": {},
   "source": [
    "## * 2.Feature_Selecion\n"
   ]
  },
  {
   "cell_type": "markdown",
   "metadata": {},
   "source": [
    "feature selection techiniques are used to select those feature which are mainly required for making the model, as well as removing the non required data features"
   ]
  },
  {
   "cell_type": "markdown",
   "metadata": {},
   "source": [
    "### **        1.Dropping features with no impact in target:"
   ]
  },
  {
   "cell_type": "markdown",
   "metadata": {},
   "source": [
    "features with no impact means those features which are different for all data_points hence we cannot find any relation for that  type of features so we drop that. example: ID,Book_No,Employee_ID,Phone_number,Etc..."
   ]
  },
  {
   "cell_type": "code",
   "execution_count": 23,
   "metadata": {},
   "outputs": [
    {
     "data": {
      "text/html": [
       "<div>\n",
       "<style scoped>\n",
       "    .dataframe tbody tr th:only-of-type {\n",
       "        vertical-align: middle;\n",
       "    }\n",
       "\n",
       "    .dataframe tbody tr th {\n",
       "        vertical-align: top;\n",
       "    }\n",
       "\n",
       "    .dataframe thead th {\n",
       "        text-align: right;\n",
       "    }\n",
       "</style>\n",
       "<table border=\"1\" class=\"dataframe\">\n",
       "  <thead>\n",
       "    <tr style=\"text-align: right;\">\n",
       "      <th></th>\n",
       "      <th>Unnamed: 0</th>\n",
       "      <th>Account_Length</th>\n",
       "      <th>Area_Code</th>\n",
       "      <th>Phone</th>\n",
       "      <th>International_Plan</th>\n",
       "      <th>VMail_Plan</th>\n",
       "      <th>VMail_Message</th>\n",
       "      <th>Day_Mins</th>\n",
       "      <th>Day_Calls</th>\n",
       "      <th>Day_Charge</th>\n",
       "      <th>...</th>\n",
       "      <th>International_Charge</th>\n",
       "      <th>CustServ_Calls</th>\n",
       "      <th>Churn</th>\n",
       "      <th>State_0</th>\n",
       "      <th>State_1</th>\n",
       "      <th>State_2</th>\n",
       "      <th>State_3</th>\n",
       "      <th>State_4</th>\n",
       "      <th>State_5</th>\n",
       "      <th>State_6</th>\n",
       "    </tr>\n",
       "  </thead>\n",
       "  <tbody>\n",
       "    <tr>\n",
       "      <th>0</th>\n",
       "      <td>0</td>\n",
       "      <td>128</td>\n",
       "      <td>415</td>\n",
       "      <td>382</td>\n",
       "      <td>0</td>\n",
       "      <td>1</td>\n",
       "      <td>25</td>\n",
       "      <td>265.1</td>\n",
       "      <td>110</td>\n",
       "      <td>45.07</td>\n",
       "      <td>...</td>\n",
       "      <td>2.70</td>\n",
       "      <td>1</td>\n",
       "      <td>0</td>\n",
       "      <td>0</td>\n",
       "      <td>0</td>\n",
       "      <td>0</td>\n",
       "      <td>0</td>\n",
       "      <td>0</td>\n",
       "      <td>0</td>\n",
       "      <td>1</td>\n",
       "    </tr>\n",
       "    <tr>\n",
       "      <th>1</th>\n",
       "      <td>1</td>\n",
       "      <td>107</td>\n",
       "      <td>415</td>\n",
       "      <td>371</td>\n",
       "      <td>0</td>\n",
       "      <td>1</td>\n",
       "      <td>26</td>\n",
       "      <td>161.6</td>\n",
       "      <td>123</td>\n",
       "      <td>27.47</td>\n",
       "      <td>...</td>\n",
       "      <td>3.70</td>\n",
       "      <td>1</td>\n",
       "      <td>0</td>\n",
       "      <td>0</td>\n",
       "      <td>0</td>\n",
       "      <td>0</td>\n",
       "      <td>0</td>\n",
       "      <td>0</td>\n",
       "      <td>1</td>\n",
       "      <td>0</td>\n",
       "    </tr>\n",
       "    <tr>\n",
       "      <th>2</th>\n",
       "      <td>2</td>\n",
       "      <td>137</td>\n",
       "      <td>415</td>\n",
       "      <td>358</td>\n",
       "      <td>0</td>\n",
       "      <td>0</td>\n",
       "      <td>0</td>\n",
       "      <td>243.4</td>\n",
       "      <td>114</td>\n",
       "      <td>41.38</td>\n",
       "      <td>...</td>\n",
       "      <td>3.29</td>\n",
       "      <td>0</td>\n",
       "      <td>0</td>\n",
       "      <td>0</td>\n",
       "      <td>0</td>\n",
       "      <td>0</td>\n",
       "      <td>0</td>\n",
       "      <td>0</td>\n",
       "      <td>1</td>\n",
       "      <td>1</td>\n",
       "    </tr>\n",
       "    <tr>\n",
       "      <th>3</th>\n",
       "      <td>3</td>\n",
       "      <td>84</td>\n",
       "      <td>408</td>\n",
       "      <td>375</td>\n",
       "      <td>1</td>\n",
       "      <td>0</td>\n",
       "      <td>0</td>\n",
       "      <td>299.4</td>\n",
       "      <td>71</td>\n",
       "      <td>50.90</td>\n",
       "      <td>...</td>\n",
       "      <td>1.78</td>\n",
       "      <td>2</td>\n",
       "      <td>0</td>\n",
       "      <td>0</td>\n",
       "      <td>0</td>\n",
       "      <td>0</td>\n",
       "      <td>0</td>\n",
       "      <td>0</td>\n",
       "      <td>1</td>\n",
       "      <td>0</td>\n",
       "    </tr>\n",
       "    <tr>\n",
       "      <th>4</th>\n",
       "      <td>4</td>\n",
       "      <td>75</td>\n",
       "      <td>415</td>\n",
       "      <td>330</td>\n",
       "      <td>1</td>\n",
       "      <td>0</td>\n",
       "      <td>0</td>\n",
       "      <td>166.7</td>\n",
       "      <td>113</td>\n",
       "      <td>28.34</td>\n",
       "      <td>...</td>\n",
       "      <td>2.73</td>\n",
       "      <td>3</td>\n",
       "      <td>0</td>\n",
       "      <td>0</td>\n",
       "      <td>0</td>\n",
       "      <td>0</td>\n",
       "      <td>0</td>\n",
       "      <td>1</td>\n",
       "      <td>0</td>\n",
       "      <td>0</td>\n",
       "    </tr>\n",
       "  </tbody>\n",
       "</table>\n",
       "<p>5 rows × 28 columns</p>\n",
       "</div>"
      ],
      "text/plain": [
       "   Unnamed: 0  Account_Length  Area_Code  Phone  International_Plan  \\\n",
       "0           0             128        415    382                   0   \n",
       "1           1             107        415    371                   0   \n",
       "2           2             137        415    358                   0   \n",
       "3           3              84        408    375                   1   \n",
       "4           4              75        415    330                   1   \n",
       "\n",
       "   VMail_Plan  VMail_Message  Day_Mins  Day_Calls  Day_Charge  ...  \\\n",
       "0           1             25     265.1        110       45.07  ...   \n",
       "1           1             26     161.6        123       27.47  ...   \n",
       "2           0              0     243.4        114       41.38  ...   \n",
       "3           0              0     299.4         71       50.90  ...   \n",
       "4           0              0     166.7        113       28.34  ...   \n",
       "\n",
       "   International_Charge  CustServ_Calls  Churn  State_0  State_1  State_2  \\\n",
       "0                  2.70               1      0        0        0        0   \n",
       "1                  3.70               1      0        0        0        0   \n",
       "2                  3.29               0      0        0        0        0   \n",
       "3                  1.78               2      0        0        0        0   \n",
       "4                  2.73               3      0        0        0        0   \n",
       "\n",
       "   State_3  State_4  State_5  State_6  \n",
       "0        0        0        0        1  \n",
       "1        0        0        1        0  \n",
       "2        0        0        1        1  \n",
       "3        0        0        1        0  \n",
       "4        0        1        0        0  \n",
       "\n",
       "[5 rows x 28 columns]"
      ]
     },
     "execution_count": 23,
     "metadata": {},
     "output_type": "execute_result"
    }
   ],
   "source": [
    "data.head()"
   ]
  },
  {
   "cell_type": "markdown",
   "metadata": {},
   "source": [
    "While considering the above data_set we know that is numbering is an unwanted thing for modelling hence we remove that"
   ]
  },
  {
   "cell_type": "code",
   "execution_count": 24,
   "metadata": {},
   "outputs": [],
   "source": [
    "data.drop(columns=[\"Unnamed: 0\"],inplace=True)"
   ]
  },
  {
   "cell_type": "markdown",
   "metadata": {},
   "source": [
    "### **       2. Finding variance for dropping features with low variance (less than 0.08)"
   ]
  },
  {
   "cell_type": "markdown",
   "metadata": {},
   "source": [
    "while considering variance if the variance is too low means that feature doent play the major role in finding the Target. so,that low variance features can be dropped "
   ]
  },
  {
   "cell_type": "code",
   "execution_count": 25,
   "metadata": {},
   "outputs": [
    {
     "data": {
      "text/plain": [
       "VarianceThreshold(threshold=0.08)"
      ]
     },
     "execution_count": 25,
     "metadata": {},
     "output_type": "execute_result"
    }
   ],
   "source": [
    "variance = VarianceThreshold(threshold=0.08)\n",
    "variance.fit(data)"
   ]
  },
  {
   "cell_type": "code",
   "execution_count": 26,
   "metadata": {},
   "outputs": [
    {
     "data": {
      "text/plain": [
       "array([ True,  True,  True,  True,  True,  True,  True,  True,  True,\n",
       "        True,  True,  True,  True,  True,  True,  True,  True,  True,\n",
       "        True,  True, False,  True,  True,  True,  True,  True,  True])"
      ]
     },
     "execution_count": 26,
     "metadata": {},
     "output_type": "execute_result"
    }
   ],
   "source": [
    "variance.get_support()"
   ]
  },
  {
   "cell_type": "code",
   "execution_count": 27,
   "metadata": {},
   "outputs": [
    {
     "data": {
      "text/plain": [
       "Index(['State_0'], dtype='object')"
      ]
     },
     "execution_count": 27,
     "metadata": {},
     "output_type": "execute_result"
    }
   ],
   "source": [
    "drop_col_names = data.columns[variance.get_support()  == False]\n",
    "drop_col_names"
   ]
  },
  {
   "cell_type": "markdown",
   "metadata": {},
   "source": [
    "the above denoted features are under the threshold value hence we can drop those features"
   ]
  },
  {
   "cell_type": "code",
   "execution_count": 28,
   "metadata": {},
   "outputs": [],
   "source": [
    "data.drop(columns=drop_col_names,inplace=True)"
   ]
  },
  {
   "cell_type": "markdown",
   "metadata": {},
   "source": [
    "### **  3.Finding correlation to drop features with highly corrilated to each other(Independent features)"
   ]
  },
  {
   "cell_type": "markdown",
   "metadata": {},
   "source": [
    "here we are considering 0.8 as our cutoff and if any features exeeds the cutoff then we can say that they are duplicates of other features so we can remove those duplicates from our data "
   ]
  },
  {
   "cell_type": "code",
   "execution_count": 29,
   "metadata": {},
   "outputs": [
    {
     "data": {
      "image/png": "[encoded data removed]",
      "text/plain": [
       "<Figure size 2160x1584 with 2 Axes>"
      ]
     },
     "metadata": {},
     "output_type": "display_data"
    }
   ],
   "source": [
    "plt.rcParams[\"figure.figsize\"] = 30,22\n",
    "plt.rcParams[\"figure.facecolor\"] = \"white\"\n",
    "corrilation_Ind_features = data.corr()\n",
    "sb.heatmap(corrilation_Ind_features,annot=True,cmap= \"Spectral_r\")\n",
    "plt.show()"
   ]
  },
  {
   "cell_type": "markdown",
   "metadata": {},
   "source": [
    "from the above figure it is clear that some of the features are duplicates of others hence we need to drop those features"
   ]
  },
  {
   "cell_type": "code",
   "execution_count": 30,
   "metadata": {},
   "outputs": [],
   "source": [
    "drop_col_names = set()\n",
    "\n",
    "for i in range(len(corrilation_Ind_features.columns)):\n",
    "    for j in range(i):\n",
    "        if abs(corrilation_Ind_features.iloc[i,j] > 0.8):\n",
    "            col_name = corrilation_Ind_features.columns[i]\n",
    "            drop_col_names.add(col_name)\n",
    "        \n",
    "    "
   ]
  },
  {
   "cell_type": "code",
   "execution_count": 31,
   "metadata": {},
   "outputs": [
    {
     "data": {
      "text/plain": [
       "{'Day_Charge',\n",
       " 'Eve_Charge',\n",
       " 'International_Charge',\n",
       " 'Night_Charge',\n",
       " 'VMail_Message'}"
      ]
     },
     "execution_count": 31,
     "metadata": {},
     "output_type": "execute_result"
    }
   ],
   "source": [
    "drop_col_names"
   ]
  },
  {
   "cell_type": "markdown",
   "metadata": {},
   "source": [
    "The above listed features are duplicates of other features hence we can drop these features"
   ]
  },
  {
   "cell_type": "code",
   "execution_count": 32,
   "metadata": {},
   "outputs": [],
   "source": [
    "data.drop(columns=drop_col_names,inplace=True)"
   ]
  },
  {
   "cell_type": "code",
   "execution_count": 33,
   "metadata": {},
   "outputs": [
    {
     "data": {
      "text/html": [
       "<div>\n",
       "<style scoped>\n",
       "    .dataframe tbody tr th:only-of-type {\n",
       "        vertical-align: middle;\n",
       "    }\n",
       "\n",
       "    .dataframe tbody tr th {\n",
       "        vertical-align: top;\n",
       "    }\n",
       "\n",
       "    .dataframe thead th {\n",
       "        text-align: right;\n",
       "    }\n",
       "</style>\n",
       "<table border=\"1\" class=\"dataframe\">\n",
       "  <thead>\n",
       "    <tr style=\"text-align: right;\">\n",
       "      <th></th>\n",
       "      <th>Account_Length</th>\n",
       "      <th>Area_Code</th>\n",
       "      <th>Phone</th>\n",
       "      <th>International_Plan</th>\n",
       "      <th>VMail_Plan</th>\n",
       "      <th>Day_Mins</th>\n",
       "      <th>Day_Calls</th>\n",
       "      <th>Eve_Mins</th>\n",
       "      <th>Eve_Calls</th>\n",
       "      <th>Night_Mins</th>\n",
       "      <th>...</th>\n",
       "      <th>International_Mins</th>\n",
       "      <th>International_calls</th>\n",
       "      <th>CustServ_Calls</th>\n",
       "      <th>Churn</th>\n",
       "      <th>State_1</th>\n",
       "      <th>State_2</th>\n",
       "      <th>State_3</th>\n",
       "      <th>State_4</th>\n",
       "      <th>State_5</th>\n",
       "      <th>State_6</th>\n",
       "    </tr>\n",
       "  </thead>\n",
       "  <tbody>\n",
       "    <tr>\n",
       "      <th>0</th>\n",
       "      <td>128</td>\n",
       "      <td>415</td>\n",
       "      <td>382</td>\n",
       "      <td>0</td>\n",
       "      <td>1</td>\n",
       "      <td>265.1</td>\n",
       "      <td>110</td>\n",
       "      <td>197.4</td>\n",
       "      <td>99</td>\n",
       "      <td>244.7</td>\n",
       "      <td>...</td>\n",
       "      <td>10.0</td>\n",
       "      <td>3</td>\n",
       "      <td>1</td>\n",
       "      <td>0</td>\n",
       "      <td>0</td>\n",
       "      <td>0</td>\n",
       "      <td>0</td>\n",
       "      <td>0</td>\n",
       "      <td>0</td>\n",
       "      <td>1</td>\n",
       "    </tr>\n",
       "    <tr>\n",
       "      <th>1</th>\n",
       "      <td>107</td>\n",
       "      <td>415</td>\n",
       "      <td>371</td>\n",
       "      <td>0</td>\n",
       "      <td>1</td>\n",
       "      <td>161.6</td>\n",
       "      <td>123</td>\n",
       "      <td>195.5</td>\n",
       "      <td>103</td>\n",
       "      <td>254.4</td>\n",
       "      <td>...</td>\n",
       "      <td>13.7</td>\n",
       "      <td>3</td>\n",
       "      <td>1</td>\n",
       "      <td>0</td>\n",
       "      <td>0</td>\n",
       "      <td>0</td>\n",
       "      <td>0</td>\n",
       "      <td>0</td>\n",
       "      <td>1</td>\n",
       "      <td>0</td>\n",
       "    </tr>\n",
       "    <tr>\n",
       "      <th>2</th>\n",
       "      <td>137</td>\n",
       "      <td>415</td>\n",
       "      <td>358</td>\n",
       "      <td>0</td>\n",
       "      <td>0</td>\n",
       "      <td>243.4</td>\n",
       "      <td>114</td>\n",
       "      <td>121.2</td>\n",
       "      <td>110</td>\n",
       "      <td>162.6</td>\n",
       "      <td>...</td>\n",
       "      <td>12.2</td>\n",
       "      <td>5</td>\n",
       "      <td>0</td>\n",
       "      <td>0</td>\n",
       "      <td>0</td>\n",
       "      <td>0</td>\n",
       "      <td>0</td>\n",
       "      <td>0</td>\n",
       "      <td>1</td>\n",
       "      <td>1</td>\n",
       "    </tr>\n",
       "    <tr>\n",
       "      <th>3</th>\n",
       "      <td>84</td>\n",
       "      <td>408</td>\n",
       "      <td>375</td>\n",
       "      <td>1</td>\n",
       "      <td>0</td>\n",
       "      <td>299.4</td>\n",
       "      <td>71</td>\n",
       "      <td>61.9</td>\n",
       "      <td>88</td>\n",
       "      <td>196.9</td>\n",
       "      <td>...</td>\n",
       "      <td>6.6</td>\n",
       "      <td>7</td>\n",
       "      <td>2</td>\n",
       "      <td>0</td>\n",
       "      <td>0</td>\n",
       "      <td>0</td>\n",
       "      <td>0</td>\n",
       "      <td>0</td>\n",
       "      <td>1</td>\n",
       "      <td>0</td>\n",
       "    </tr>\n",
       "    <tr>\n",
       "      <th>4</th>\n",
       "      <td>75</td>\n",
       "      <td>415</td>\n",
       "      <td>330</td>\n",
       "      <td>1</td>\n",
       "      <td>0</td>\n",
       "      <td>166.7</td>\n",
       "      <td>113</td>\n",
       "      <td>148.3</td>\n",
       "      <td>122</td>\n",
       "      <td>186.9</td>\n",
       "      <td>...</td>\n",
       "      <td>10.1</td>\n",
       "      <td>3</td>\n",
       "      <td>3</td>\n",
       "      <td>0</td>\n",
       "      <td>0</td>\n",
       "      <td>0</td>\n",
       "      <td>0</td>\n",
       "      <td>1</td>\n",
       "      <td>0</td>\n",
       "      <td>0</td>\n",
       "    </tr>\n",
       "  </tbody>\n",
       "</table>\n",
       "<p>5 rows × 21 columns</p>\n",
       "</div>"
      ],
      "text/plain": [
       "   Account_Length  Area_Code  Phone  International_Plan  VMail_Plan  Day_Mins  \\\n",
       "0             128        415    382                   0           1     265.1   \n",
       "1             107        415    371                   0           1     161.6   \n",
       "2             137        415    358                   0           0     243.4   \n",
       "3              84        408    375                   1           0     299.4   \n",
       "4              75        415    330                   1           0     166.7   \n",
       "\n",
       "   Day_Calls  Eve_Mins  Eve_Calls  Night_Mins  ...  International_Mins  \\\n",
       "0        110     197.4         99       244.7  ...                10.0   \n",
       "1        123     195.5        103       254.4  ...                13.7   \n",
       "2        114     121.2        110       162.6  ...                12.2   \n",
       "3         71      61.9         88       196.9  ...                 6.6   \n",
       "4        113     148.3        122       186.9  ...                10.1   \n",
       "\n",
       "   International_calls  CustServ_Calls  Churn  State_1  State_2  State_3  \\\n",
       "0                    3               1      0        0        0        0   \n",
       "1                    3               1      0        0        0        0   \n",
       "2                    5               0      0        0        0        0   \n",
       "3                    7               2      0        0        0        0   \n",
       "4                    3               3      0        0        0        0   \n",
       "\n",
       "   State_4  State_5  State_6  \n",
       "0        0        0        1  \n",
       "1        0        1        0  \n",
       "2        0        1        1  \n",
       "3        0        1        0  \n",
       "4        1        0        0  \n",
       "\n",
       "[5 rows x 21 columns]"
      ]
     },
     "execution_count": 33,
     "metadata": {},
     "output_type": "execute_result"
    }
   ],
   "source": [
    "data.head()"
   ]
  },
  {
   "cell_type": "markdown",
   "metadata": {},
   "source": [
    "### **  4.Finding correlation to drop features who have low corrilation with Target (Dependent features)"
   ]
  },
  {
   "cell_type": "markdown",
   "metadata": {},
   "source": [
    "here we are considering 0.08 as our cutoff and if any features below the cutoff then we can say that they are having a low corrilation with the Target feature. so we can remove those duplicates from our data "
   ]
  },
  {
   "cell_type": "code",
   "execution_count": 34,
   "metadata": {},
   "outputs": [
    {
     "data": {
      "image/png": "[encoded data removed]",
      "text/plain": [
       "<Figure size 1584x72 with 2 Axes>"
      ]
     },
     "metadata": {},
     "output_type": "display_data"
    }
   ],
   "source": [
    "\n",
    "plt.rcParams[\"figure.figsize\"] = 22,1\n",
    "corrilation_depend = data.corr()\n",
    "sb.heatmap(corrilation_depend.loc[[\"Churn\"],:],annot=True,cmap= \"Pastel1\")\n",
    "plt.show()"
   ]
  },
  {
   "cell_type": "markdown",
   "metadata": {},
   "source": [
    "From the above heatmap its clear that most of the features are having a very low corrilation with target feature hence we can drop some features"
   ]
  },
  {
   "cell_type": "code",
   "execution_count": 35,
   "metadata": {},
   "outputs": [
    {
     "name": "stdout",
     "output_type": "stream",
     "text": [
      "0.01804596333797335     Account_Length\n",
      "0.011995300224197222     Area_Code\n",
      "0.0092794456539168     Phone\n",
      "0.016267797010604376     Day_Calls\n",
      "0.001942881261836244     Eve_Calls\n",
      "-0.006670885105318874     Night_Calls\n",
      "0.026382184521520215     State_1\n",
      "-0.03788076216234512     State_2\n",
      "-0.005571285140181693     State_3\n",
      "0.015547709419908151     State_4\n",
      "0.034931930534799864     State_5\n",
      "-0.0032547848186444714     State_6\n"
     ]
    }
   ],
   "source": [
    "#taking cut off as 0.05\n",
    "drop_col_names = []\n",
    "for x,i in enumerate(corrilation_depend[\"Churn\"]):\n",
    "    if abs(i) < 0.04:\n",
    "        print(i,\"   \",corrilation_depend.columns[x])\n",
    "        drop_col_names.append(corrilation_depend.columns[x])"
   ]
  },
  {
   "cell_type": "markdown",
   "metadata": {},
   "source": [
    "The above mensioned columns are to be dropped from the data set because they are below the cuttoff as well as they less corilated with Target feature"
   ]
  },
  {
   "cell_type": "code",
   "execution_count": 36,
   "metadata": {},
   "outputs": [],
   "source": [
    "data.drop(columns=drop_col_names,inplace=True)"
   ]
  },
  {
   "cell_type": "code",
   "execution_count": 37,
   "metadata": {},
   "outputs": [
    {
     "data": {
      "text/html": [
       "<div>\n",
       "<style scoped>\n",
       "    .dataframe tbody tr th:only-of-type {\n",
       "        vertical-align: middle;\n",
       "    }\n",
       "\n",
       "    .dataframe tbody tr th {\n",
       "        vertical-align: top;\n",
       "    }\n",
       "\n",
       "    .dataframe thead th {\n",
       "        text-align: right;\n",
       "    }\n",
       "</style>\n",
       "<table border=\"1\" class=\"dataframe\">\n",
       "  <thead>\n",
       "    <tr style=\"text-align: right;\">\n",
       "      <th></th>\n",
       "      <th>International_Plan</th>\n",
       "      <th>VMail_Plan</th>\n",
       "      <th>Day_Mins</th>\n",
       "      <th>Eve_Mins</th>\n",
       "      <th>Night_Mins</th>\n",
       "      <th>International_Mins</th>\n",
       "      <th>International_calls</th>\n",
       "      <th>CustServ_Calls</th>\n",
       "      <th>Churn</th>\n",
       "    </tr>\n",
       "  </thead>\n",
       "  <tbody>\n",
       "    <tr>\n",
       "      <th>0</th>\n",
       "      <td>0</td>\n",
       "      <td>1</td>\n",
       "      <td>265.1</td>\n",
       "      <td>197.4</td>\n",
       "      <td>244.7</td>\n",
       "      <td>10.0</td>\n",
       "      <td>3</td>\n",
       "      <td>1</td>\n",
       "      <td>0</td>\n",
       "    </tr>\n",
       "    <tr>\n",
       "      <th>1</th>\n",
       "      <td>0</td>\n",
       "      <td>1</td>\n",
       "      <td>161.6</td>\n",
       "      <td>195.5</td>\n",
       "      <td>254.4</td>\n",
       "      <td>13.7</td>\n",
       "      <td>3</td>\n",
       "      <td>1</td>\n",
       "      <td>0</td>\n",
       "    </tr>\n",
       "    <tr>\n",
       "      <th>2</th>\n",
       "      <td>0</td>\n",
       "      <td>0</td>\n",
       "      <td>243.4</td>\n",
       "      <td>121.2</td>\n",
       "      <td>162.6</td>\n",
       "      <td>12.2</td>\n",
       "      <td>5</td>\n",
       "      <td>0</td>\n",
       "      <td>0</td>\n",
       "    </tr>\n",
       "    <tr>\n",
       "      <th>3</th>\n",
       "      <td>1</td>\n",
       "      <td>0</td>\n",
       "      <td>299.4</td>\n",
       "      <td>61.9</td>\n",
       "      <td>196.9</td>\n",
       "      <td>6.6</td>\n",
       "      <td>7</td>\n",
       "      <td>2</td>\n",
       "      <td>0</td>\n",
       "    </tr>\n",
       "    <tr>\n",
       "      <th>4</th>\n",
       "      <td>1</td>\n",
       "      <td>0</td>\n",
       "      <td>166.7</td>\n",
       "      <td>148.3</td>\n",
       "      <td>186.9</td>\n",
       "      <td>10.1</td>\n",
       "      <td>3</td>\n",
       "      <td>3</td>\n",
       "      <td>0</td>\n",
       "    </tr>\n",
       "  </tbody>\n",
       "</table>\n",
       "</div>"
      ],
      "text/plain": [
       "   International_Plan  VMail_Plan  Day_Mins  Eve_Mins  Night_Mins  \\\n",
       "0                   0           1     265.1     197.4       244.7   \n",
       "1                   0           1     161.6     195.5       254.4   \n",
       "2                   0           0     243.4     121.2       162.6   \n",
       "3                   1           0     299.4      61.9       196.9   \n",
       "4                   1           0     166.7     148.3       186.9   \n",
       "\n",
       "   International_Mins  International_calls  CustServ_Calls  Churn  \n",
       "0                10.0                    3               1      0  \n",
       "1                13.7                    3               1      0  \n",
       "2                12.2                    5               0      0  \n",
       "3                 6.6                    7               2      0  \n",
       "4                10.1                    3               3      0  "
      ]
     },
     "execution_count": 37,
     "metadata": {},
     "output_type": "execute_result"
    }
   ],
   "source": [
    "data.head()"
   ]
  },
  {
   "cell_type": "markdown",
   "metadata": {},
   "source": [
    "    "
   ]
  },
  {
   "cell_type": "markdown",
   "metadata": {},
   "source": [
    "# 5.Normalization of Data"
   ]
  },
  {
   "cell_type": "markdown",
   "metadata": {},
   "source": [
    "To find weather the given data points lies under the gausiion distribution . If not we need to make them guassion distribution curve"
   ]
  },
  {
   "cell_type": "markdown",
   "metadata": {},
   "source": [
    "### Normality check of the features "
   ]
  },
  {
   "cell_type": "code",
   "execution_count": 38,
   "metadata": {},
   "outputs": [],
   "source": [
    "plt.rcParams[\"figure.figsize\"] = 10,5\n",
    "\n",
    "\n",
    "def plotfigure(data,feature):\n",
    "    print(\"\\n\\nskewness of the \",feature,\" is : \",stats.skew(data[feature]))\n",
    "    print(\"kurtosis of the \",feature,\" is : \",stats.kurtosis(data[feature]))\n",
    "    plt.subplot(1,2,1)\n",
    "    sb.distplot(data[feature],kde=True)\n",
    "    plt.subplot(1,2,2)\n",
    "    stats.probplot(data[feature],plot=pylab)\n",
    "    plt.show()\n",
    "    \n",
    "    \n",
    "def line():\n",
    "    print(\"\\033[1m\" + \"_________________________________________________________________________________________________________\"+ \"\\033[0m\")\n"
   ]
  },
  {
   "cell_type": "code",
   "execution_count": 39,
   "metadata": {},
   "outputs": [
    {
     "name": "stdout",
     "output_type": "stream",
     "text": [
      "\n",
      "                             \u001b[1mI̲n̲t̲e̲r̲n̲a̲t̲i̲o̲n̲a̲l̲_̲P̲l̲a̲n:\u001b[0m\n",
      "\n",
      "\n",
      "skewness of the  International_Plan  is :  2.731107235403605\n",
      "kurtosis of the  International_Plan  is :  5.458946731273915\n"
     ]
    },
    {
     "data": {
      "image/png": "[encoded data removed]",
      "text/plain": [
       "<Figure size 720x360 with 2 Axes>"
      ]
     },
     "metadata": {},
     "output_type": "display_data"
    },
    {
     "name": "stdout",
     "output_type": "stream",
     "text": [
      "\u001b[1m_________________________________________________________________________________________________________\u001b[0m\n",
      "\n",
      "                             \u001b[1mV̲M̲a̲i̲l̲_̲P̲l̲a̲n:\u001b[0m\n",
      "\n",
      "\n",
      "skewness of the  VMail_Plan  is :  1.0492898594224374\n",
      "kurtosis of the  VMail_Plan  is :  -0.8989907909132424\n"
     ]
    },
    {
     "data": {
      "image/png": "[encoded data removed]",
      "text/plain": [
       "<Figure size 720x360 with 2 Axes>"
      ]
     },
     "metadata": {},
     "output_type": "display_data"
    },
    {
     "name": "stdout",
     "output_type": "stream",
     "text": [
      "\u001b[1m_________________________________________________________________________________________________________\u001b[0m\n",
      "\n",
      "                             \u001b[1mD̲a̲y̲_̲M̲i̲n̲s:\u001b[0m\n",
      "\n",
      "\n",
      "skewness of the  Day_Mins  is :  -0.002947284016695239\n",
      "kurtosis of the  Day_Mins  is :  -0.04365222612737929\n"
     ]
    },
    {
     "data": {
      "image/png": "[encoded data removed]",
      "text/plain": [
       "<Figure size 720x360 with 2 Axes>"
      ]
     },
     "metadata": {},
     "output_type": "display_data"
    },
    {
     "name": "stdout",
     "output_type": "stream",
     "text": [
      "\u001b[1m_________________________________________________________________________________________________________\u001b[0m\n",
      "\n",
      "                             \u001b[1mE̲v̲e̲_̲M̲i̲n̲s:\u001b[0m\n",
      "\n",
      "\n",
      "skewness of the  Eve_Mins  is :  -0.0052781500846280525\n",
      "kurtosis of the  Eve_Mins  is :  0.042283656150823745\n"
     ]
    },
    {
     "data": {
      "image/png": "[encoded data removed]",
      "text/plain": [
       "<Figure size 720x360 with 2 Axes>"
      ]
     },
     "metadata": {},
     "output_type": "display_data"
    },
    {
     "name": "stdout",
     "output_type": "stream",
     "text": [
      "\u001b[1m_________________________________________________________________________________________________________\u001b[0m\n",
      "\n",
      "                             \u001b[1mN̲i̲g̲h̲t̲_̲M̲i̲n̲s:\u001b[0m\n",
      "\n",
      "\n",
      "skewness of the  Night_Mins  is :  0.02050841390755843\n",
      "kurtosis of the  Night_Mins  is :  0.06004343141054003\n"
     ]
    },
    {
     "data": {
      "image/png": "[encoded data removed]",
      "text/plain": [
       "<Figure size 720x360 with 2 Axes>"
      ]
     },
     "metadata": {},
     "output_type": "display_data"
    },
    {
     "name": "stdout",
     "output_type": "stream",
     "text": [
      "\u001b[1m_________________________________________________________________________________________________________\u001b[0m\n",
      "\n",
      "                             \u001b[1mI̲n̲t̲e̲r̲n̲a̲t̲i̲o̲n̲a̲l̲_̲M̲i̲n̲s:\u001b[0m\n",
      "\n",
      "\n",
      "skewness of the  International_Mins  is :  -0.22081880952903746\n",
      "kurtosis of the  International_Mins  is :  0.6695756138404381\n"
     ]
    },
    {
     "data": {
      "image/png": "[encoded data removed]",
      "text/plain": [
       "<Figure size 720x360 with 2 Axes>"
      ]
     },
     "metadata": {},
     "output_type": "display_data"
    },
    {
     "name": "stdout",
     "output_type": "stream",
     "text": [
      "\u001b[1m_________________________________________________________________________________________________________\u001b[0m\n",
      "\n",
      "                             \u001b[1mI̲n̲t̲e̲r̲n̲a̲t̲i̲o̲n̲a̲l̲_̲c̲a̲l̲l̲s:\u001b[0m\n",
      "\n",
      "\n",
      "skewness of the  International_calls  is :  1.3659756765088018\n",
      "kurtosis of the  International_calls  is :  3.2980521818291813\n"
     ]
    },
    {
     "data": {
      "image/png": "[encoded data removed]",
      "text/plain": [
       "<Figure size 720x360 with 2 Axes>"
      ]
     },
     "metadata": {},
     "output_type": "display_data"
    },
    {
     "name": "stdout",
     "output_type": "stream",
     "text": [
      "\u001b[1m_________________________________________________________________________________________________________\u001b[0m\n",
      "\n",
      "                             \u001b[1mC̲u̲s̲t̲S̲e̲r̲v̲_̲C̲a̲l̲l̲s:\u001b[0m\n",
      "\n",
      "\n",
      "skewness of the  CustServ_Calls  is :  1.0464601992374216\n",
      "kurtosis of the  CustServ_Calls  is :  1.512086924300303\n"
     ]
    },
    {
     "data": {
      "image/png": "[encoded data removed]",
      "text/plain": [
       "<Figure size 720x360 with 2 Axes>"
      ]
     },
     "metadata": {},
     "output_type": "display_data"
    },
    {
     "name": "stdout",
     "output_type": "stream",
     "text": [
      "\u001b[1m_________________________________________________________________________________________________________\u001b[0m\n",
      "\n",
      "                             \u001b[1mC̲h̲u̲r̲n:\u001b[0m\n",
      "\n",
      "\n",
      "skewness of the  Churn  is :  2.050298636747617\n",
      "kurtosis of the  Churn  is :  2.2037244998491383\n"
     ]
    },
    {
     "data": {
      "image/png": "[encoded data removed]",
      "text/plain": [
       "<Figure size 720x360 with 2 Axes>"
      ]
     },
     "metadata": {},
     "output_type": "display_data"
    },
    {
     "name": "stdout",
     "output_type": "stream",
     "text": [
      "\u001b[1m_________________________________________________________________________________________________________\u001b[0m\n"
     ]
    }
   ],
   "source": [
    "for i in data.columns:\n",
    "    print(\"\\n                            \",\"\\033[1m\" + \"\\u0332\".join(i)+ \":\" + \"\\033[0m\")\n",
    "    plotfigure(data,i)\n",
    "    line()"
   ]
  },
  {
   "cell_type": "markdown",
   "metadata": {},
   "source": [
    "By using distplot and QQ plot we get the clear idea about the normality of this data set. In this data set all continues features comes under gaussion distribution hence the data is normal"
   ]
  },
  {
   "cell_type": "code",
   "execution_count": null,
   "metadata": {},
   "outputs": [],
   "source": []
  },
  {
   "cell_type": "code",
   "execution_count": null,
   "metadata": {},
   "outputs": [],
   "source": []
  },
  {
   "cell_type": "markdown",
   "metadata": {},
   "source": [
    "# 6.Handling Outliers of Continues Features"
   ]
  },
  {
   "cell_type": "markdown",
   "metadata": {},
   "source": [
    "Outliers are the datapoints which lies after three standard deviation while considering leaniar models we need to consider this outliers otherwise we doesn't get the best fit line "
   ]
  },
  {
   "cell_type": "markdown",
   "metadata": {},
   "source": [
    "### * 1.cheching wheather outliers are present or Not"
   ]
  },
  {
   "cell_type": "markdown",
   "metadata": {},
   "source": [
    "Considering the continues features, Using boxplot we find weather outliers present or not. "
   ]
  },
  {
   "cell_type": "markdown",
   "metadata": {},
   "source": [
    "#### -> Considering Day_Mins :"
   ]
  },
  {
   "cell_type": "code",
   "execution_count": 40,
   "metadata": {},
   "outputs": [],
   "source": [
    "#setting the parameters for plotting\n",
    "plt.rcParams[\"figure.figsize\"] = 9,4\n",
    "plt.rcParams[\"figure.facecolor\"] = \"pink\""
   ]
  },
  {
   "cell_type": "code",
   "execution_count": 41,
   "metadata": {},
   "outputs": [
    {
     "data": {
      "image/png": "[encoded data removed]",
      "text/plain": [
       "<Figure size 648x288 with 1 Axes>"
      ]
     },
     "metadata": {},
     "output_type": "display_data"
    }
   ],
   "source": [
    "#plotting the boxplot\n",
    "sb.boxplot(data.Day_Mins,color=\"cyan\")\n",
    "plt.show()"
   ]
  },
  {
   "cell_type": "markdown",
   "metadata": {},
   "source": [
    "-> From the above boxplot its clear that \" Day_Mins \" feature contains outliers so we need to remove those outliers"
   ]
  },
  {
   "cell_type": "markdown",
   "metadata": {},
   "source": [
    "#### -> Considering Eve_Mins :"
   ]
  },
  {
   "cell_type": "code",
   "execution_count": 42,
   "metadata": {},
   "outputs": [
    {
     "data": {
      "image/png": "[encoded data removed]",
      "text/plain": [
       "<Figure size 648x288 with 1 Axes>"
      ]
     },
     "metadata": {},
     "output_type": "display_data"
    }
   ],
   "source": [
    "#plotting the boxplot\n",
    "sb.boxplot(data.Eve_Mins,color=\"cyan\")\n",
    "plt.show()"
   ]
  },
  {
   "cell_type": "markdown",
   "metadata": {},
   "source": [
    "-> From the above boxplot its clear that \" Eve_Mins \" feature contains outliers so we need to remove those outliers"
   ]
  },
  {
   "cell_type": "markdown",
   "metadata": {},
   "source": [
    "#### -> Considering Night_Mins :"
   ]
  },
  {
   "cell_type": "code",
   "execution_count": 43,
   "metadata": {},
   "outputs": [
    {
     "data": {
      "image/png": "[encoded data removed]",
      "text/plain": [
       "<Figure size 648x288 with 1 Axes>"
      ]
     },
     "metadata": {},
     "output_type": "display_data"
    }
   ],
   "source": [
    "#plotting the boxplot\n",
    "sb.boxplot(data.Night_Mins,color=\"cyan\")\n",
    "plt.show()"
   ]
  },
  {
   "cell_type": "markdown",
   "metadata": {},
   "source": [
    "-> From the above boxplot its clear that \" Night_Mins \" feature contains outliers so we need to remove those outliers"
   ]
  },
  {
   "cell_type": "markdown",
   "metadata": {},
   "source": [
    "#### -> Considering International_Mins :"
   ]
  },
  {
   "cell_type": "code",
   "execution_count": 44,
   "metadata": {},
   "outputs": [
    {
     "data": {
      "image/png": "[encoded data removed]",
      "text/plain": [
       "<Figure size 648x288 with 1 Axes>"
      ]
     },
     "metadata": {},
     "output_type": "display_data"
    }
   ],
   "source": [
    "#plotting the boxplot\n",
    "sb.boxplot(data.International_Mins,color=\"cyan\")\n",
    "plt.show()"
   ]
  },
  {
   "cell_type": "markdown",
   "metadata": {},
   "source": [
    "-> From the above boxplot its clear that \" International_Mins \" feature contains outliers so we need to remove those outliers"
   ]
  },
  {
   "cell_type": "markdown",
   "metadata": {},
   "source": [
    "### *2. Removing outliers from the continues features"
   ]
  },
  {
   "cell_type": "markdown",
   "metadata": {},
   "source": [
    "Here we are removing the outliers by changing the value with Boundary values.generally we drop the outliers but in our data the number of data points is very small hence we doesn't drop the outliers. Here we are taking 3 standard deviation from mean as boundary"
   ]
  },
  {
   "cell_type": "markdown",
   "metadata": {},
   "source": [
    "#### -> Considering Day_Mins :"
   ]
  },
  {
   "cell_type": "code",
   "execution_count": 45,
   "metadata": {},
   "outputs": [
    {
     "name": "stdout",
     "output_type": "stream",
     "text": [
      "Mean of Day_Mins               :  180.44715183019264\n",
      "standard deviation of Day_Mins :  53.98353976986507\n"
     ]
    }
   ],
   "source": [
    "#Finding mean and standard deviation of Day_mins\n",
    "Day_Mins_mean = data.Day_Mins.mean()\n",
    "Day_Mins_std  = data.Day_Mins.std()\n",
    "print(\"Mean of Day_Mins               : \",Day_Mins_mean)\n",
    "print(\"standard deviation of Day_Mins : \",Day_Mins_std)"
   ]
  },
  {
   "cell_type": "code",
   "execution_count": 46,
   "metadata": {},
   "outputs": [
    {
     "name": "stdout",
     "output_type": "stream",
     "text": [
      "Lower Boundary of Day_Mins   :  18.49653252059744\n",
      "Heigher Boundary of Day_Mins :  342.39777113978784\n"
     ]
    }
   ],
   "source": [
    "#finding Lower boundary and Heigher Boundary\n",
    "lower_boundary   = Day_Mins_mean - (3 * Day_Mins_std)\n",
    "heigher_boundary = Day_Mins_mean + (3 * Day_Mins_std)\n",
    "print(\"Lower Boundary of Day_Mins   : \",lower_boundary)\n",
    "print(\"Heigher Boundary of Day_Mins : \",heigher_boundary) "
   ]
  },
  {
   "cell_type": "markdown",
   "metadata": {},
   "source": [
    "Changing the outliers with heigher boundary as well as lower boundary values"
   ]
  },
  {
   "cell_type": "code",
   "execution_count": 47,
   "metadata": {},
   "outputs": [],
   "source": [
    "data.loc[data.Day_Mins < lower_boundary , \"Day_Mins\"] = lower_boundary\n",
    "data.loc[data.Day_Mins > heigher_boundary , \"Day_Mins\"] = heigher_boundary"
   ]
  },
  {
   "cell_type": "code",
   "execution_count": 48,
   "metadata": {},
   "outputs": [
    {
     "data": {
      "image/png": "[encoded data removed]",
      "text/plain": [
       "<Figure size 648x288 with 1 Axes>"
      ]
     },
     "metadata": {},
     "output_type": "display_data"
    }
   ],
   "source": [
    "#plotting the boxplot\n",
    "sb.boxplot(data.Day_Mins,color = \"violet\" )\n",
    "plt.show()"
   ]
  },
  {
   "cell_type": "markdown",
   "metadata": {},
   "source": [
    "We can see that from the boxplot by doing the three sigma limits the outliers are not fully considered so we can use another method ie., by taking Inter Quantile Range(IQR)"
   ]
  },
  {
   "cell_type": "code",
   "execution_count": 49,
   "metadata": {},
   "outputs": [
    {
     "name": "stdout",
     "output_type": "stream",
     "text": [
      "IQR value of Day_Mins :  73.10000000000002\n"
     ]
    }
   ],
   "source": [
    "#finding Inter Quantile Range(IQR)\n",
    "IQR = data.Day_Mins.quantile(.75) - data.Day_Mins.quantile(0.25)\n",
    "print(\"IQR value of Day_Mins : \",IQR)"
   ]
  },
  {
   "cell_type": "code",
   "execution_count": 50,
   "metadata": {},
   "outputs": [
    {
     "name": "stdout",
     "output_type": "stream",
     "text": [
      "Under_bridge value of Day_Mins :  34.049999999999955\n",
      "over_bridge value Day_Mins     :  326.45000000000005\n"
     ]
    }
   ],
   "source": [
    "#finding under bridge and over bridge values\n",
    "under_bridge= data.Day_Mins.quantile(.25) - (IQR * 1.5)\n",
    "over_bridge = data.Day_Mins.quantile(.75) + (IQR * 1.5)\n",
    "print(\"Under_bridge value of Day_Mins : \",under_bridge)\n",
    "print(\"over_bridge value Day_Mins     : \",over_bridge)"
   ]
  },
  {
   "cell_type": "code",
   "execution_count": 51,
   "metadata": {},
   "outputs": [],
   "source": [
    "#replacing the outliers with the bridge values\n",
    "data.loc[data.Day_Mins < under_bridge , \"Day_Mins\"] = under_bridge\n",
    "data.loc[data.Day_Mins > over_bridge , \"Day_Mins\"] = over_bridge"
   ]
  },
  {
   "cell_type": "code",
   "execution_count": 52,
   "metadata": {},
   "outputs": [
    {
     "data": {
      "image/png": "[encoded data removed]",
      "text/plain": [
       "<Figure size 648x288 with 1 Axes>"
      ]
     },
     "metadata": {},
     "output_type": "display_data"
    }
   ],
   "source": [
    "#plotting the boxplot\n",
    "sb.boxplot(data.Day_Mins,color = \"grey\")\n",
    "plt.show()"
   ]
  },
  {
   "cell_type": "markdown",
   "metadata": {},
   "source": [
    "From the above boxplot figure it is clear that we have handled all the outliers from the data.hence we continue with this method for all other features"
   ]
  },
  {
   "cell_type": "markdown",
   "metadata": {},
   "source": [
    "#### -> Considering Eve_Mins :"
   ]
  },
  {
   "cell_type": "code",
   "execution_count": 53,
   "metadata": {},
   "outputs": [
    {
     "name": "stdout",
     "output_type": "stream",
     "text": [
      "IQR value of Eve_Mins :  68.1\n"
     ]
    }
   ],
   "source": [
    "#Finding Inter Quantile Range\n",
    "IQR = data.Eve_Mins.quantile(.75) - data.Eve_Mins.quantile(0.25)\n",
    "print(\"IQR value of Eve_Mins : \",IQR)"
   ]
  },
  {
   "cell_type": "code",
   "execution_count": 54,
   "metadata": {},
   "outputs": [
    {
     "name": "stdout",
     "output_type": "stream",
     "text": [
      "Under_bridge value of Eve_Mins :  63.750000000000014\n",
      "over_bridge value Eve_Mins     :  336.15\n"
     ]
    }
   ],
   "source": [
    "#finding under bridge and over bridge values\n",
    "under_bridge= data.Eve_Mins.quantile(.25) - (IQR * 1.5)\n",
    "over_bridge = data.Eve_Mins.quantile(.75) + (IQR * 1.5)\n",
    "print(\"Under_bridge value of Eve_Mins : \",under_bridge)\n",
    "print(\"over_bridge value Eve_Mins     : \",over_bridge)"
   ]
  },
  {
   "cell_type": "code",
   "execution_count": 55,
   "metadata": {},
   "outputs": [],
   "source": [
    "#replacing the outliers with the bridge values\n",
    "data.loc[data.Eve_Mins < under_bridge , \"Eve_Mins\"] = under_bridge\n",
    "data.loc[data.Eve_Mins > over_bridge , \"Eve_Mins\"] = over_bridge"
   ]
  },
  {
   "cell_type": "code",
   "execution_count": 56,
   "metadata": {},
   "outputs": [
    {
     "data": {
      "image/png": "[encoded data removed]",
      "text/plain": [
       "<Figure size 648x288 with 1 Axes>"
      ]
     },
     "metadata": {},
     "output_type": "display_data"
    }
   ],
   "source": [
    "#plotting the boxplot\n",
    "sb.boxplot(data.Eve_Mins,color=\"grey\")\n",
    "plt.show()"
   ]
  },
  {
   "cell_type": "markdown",
   "metadata": {},
   "source": [
    "From the above boxplot figure it is clear that we have handled all the outliers from the data."
   ]
  },
  {
   "cell_type": "markdown",
   "metadata": {},
   "source": [
    "#### -> Considering Night_Mins :"
   ]
  },
  {
   "cell_type": "code",
   "execution_count": 57,
   "metadata": {},
   "outputs": [
    {
     "name": "stdout",
     "output_type": "stream",
     "text": [
      "IQR value of Eve_Mins :  67.80000000000001\n"
     ]
    }
   ],
   "source": [
    "#Finding Inter Quantile Range\n",
    "IQR = data.Night_Mins.quantile(.75) - data.Night_Mins.quantile(0.25)\n",
    "print(\"IQR value of Eve_Mins : \",IQR)"
   ]
  },
  {
   "cell_type": "code",
   "execution_count": 58,
   "metadata": {},
   "outputs": [
    {
     "name": "stdout",
     "output_type": "stream",
     "text": [
      "Under_bridge value of Eve_Mins :  65.39999999999998\n",
      "over_bridge value Eve_Mins     :  336.6\n"
     ]
    }
   ],
   "source": [
    "#finding under bridge and over bridge values\n",
    "under_bridge= data.Night_Mins.quantile(.25) - (IQR * 1.5)\n",
    "over_bridge = data.Night_Mins.quantile(.75) + (IQR * 1.5)\n",
    "print(\"Under_bridge value of Eve_Mins : \",under_bridge)\n",
    "print(\"over_bridge value Eve_Mins     : \",over_bridge)"
   ]
  },
  {
   "cell_type": "code",
   "execution_count": 59,
   "metadata": {},
   "outputs": [],
   "source": [
    "#replacing the outliers with the bridge values\n",
    "data.loc[data.Night_Mins < under_bridge , \"Night_Mins\"] = under_bridge\n",
    "data.loc[data.Night_Mins > over_bridge , \"Night_Mins\"] = over_bridge"
   ]
  },
  {
   "cell_type": "code",
   "execution_count": 60,
   "metadata": {},
   "outputs": [
    {
     "data": {
      "image/png": "[encoded data removed]",
      "text/plain": [
       "<Figure size 648x288 with 1 Axes>"
      ]
     },
     "metadata": {},
     "output_type": "display_data"
    }
   ],
   "source": [
    "#plotting the boxplot\n",
    "sb.boxplot(data.Night_Mins,color=\"grey\")\n",
    "plt.show()"
   ]
  },
  {
   "cell_type": "markdown",
   "metadata": {},
   "source": [
    "From the above boxplot figure it is clear that we have handled all the outliers from the data."
   ]
  },
  {
   "cell_type": "markdown",
   "metadata": {},
   "source": [
    "#### -> Considering International_Mins :"
   ]
  },
  {
   "cell_type": "code",
   "execution_count": 61,
   "metadata": {},
   "outputs": [
    {
     "name": "stdout",
     "output_type": "stream",
     "text": [
      "IQR value of Eve_Mins :  3.5\n"
     ]
    }
   ],
   "source": [
    "#Finding Inter Quantile Range\n",
    "IQR = data.International_Mins.quantile(.75) - data.International_Mins.quantile(0.25)\n",
    "print(\"IQR value of Eve_Mins : \",IQR)"
   ]
  },
  {
   "cell_type": "code",
   "execution_count": 62,
   "metadata": {},
   "outputs": [
    {
     "name": "stdout",
     "output_type": "stream",
     "text": [
      "Under_bridge value of Eve_Mins :  3.3499999999999996\n",
      "over_bridge value Eve_Mins     :  17.35\n"
     ]
    }
   ],
   "source": [
    "#finding under bridge and over bridge values\n",
    "under_bridge= data.International_Mins.quantile(.25) - (IQR * 1.5)\n",
    "over_bridge = data.International_Mins.quantile(.75) + (IQR * 1.5)\n",
    "print(\"Under_bridge value of Eve_Mins : \",under_bridge)\n",
    "print(\"over_bridge value Eve_Mins     : \",over_bridge)"
   ]
  },
  {
   "cell_type": "code",
   "execution_count": 63,
   "metadata": {},
   "outputs": [],
   "source": [
    "#replacing the outliers with the bridge values\n",
    "data.loc[data.International_Mins < under_bridge , \"International_Mins\"] = under_bridge\n",
    "data.loc[data.International_Mins > over_bridge , \"International_Mins\"] = over_bridge"
   ]
  },
  {
   "cell_type": "code",
   "execution_count": 64,
   "metadata": {},
   "outputs": [
    {
     "data": {
      "image/png": "[encoded data removed]",
      "text/plain": [
       "<Figure size 648x288 with 1 Axes>"
      ]
     },
     "metadata": {},
     "output_type": "display_data"
    }
   ],
   "source": [
    "#plotting the boxplot\n",
    "sb.boxplot(data.International_Mins,color=\"grey\")\n",
    "plt.show()"
   ]
  },
  {
   "cell_type": "markdown",
   "metadata": {},
   "source": [
    "From the above boxplot figure it is clear that we have handled all the outliers from the data."
   ]
  },
  {
   "cell_type": "markdown",
   "metadata": {},
   "source": [
    "# 7.Defining X and y"
   ]
  },
  {
   "cell_type": "code",
   "execution_count": 65,
   "metadata": {},
   "outputs": [],
   "source": [
    "#classifing X and y\n",
    "X = data.iloc[:,:-1]\n",
    "y = data.Churn"
   ]
  },
  {
   "cell_type": "markdown",
   "metadata": {},
   "source": [
    "# 8.Scailing using standard scalar"
   ]
  },
  {
   "cell_type": "code",
   "execution_count": 66,
   "metadata": {},
   "outputs": [],
   "source": [
    "scale = StandardScaler()\n",
    "X = scale.fit_transform(X)"
   ]
  },
  {
   "cell_type": "markdown",
   "metadata": {},
   "source": [
    "# 9.Splitting the Data(Train_test_split) "
   ]
  },
  {
   "cell_type": "code",
   "execution_count": 67,
   "metadata": {},
   "outputs": [],
   "source": [
    "X_train,X_test,y_train,y_test = train_test_split(X,y,test_size = 0.3,random_state = 40)"
   ]
  },
  {
   "cell_type": "markdown",
   "metadata": {},
   "source": [
    "# 10.Over_sampling using SMOTE"
   ]
  },
  {
   "cell_type": "code",
   "execution_count": 68,
   "metadata": {},
   "outputs": [
    {
     "data": {
      "text/plain": [
       "1.0    2776\n",
       "0.0    2776\n",
       "Name: Churn, dtype: int64"
      ]
     },
     "execution_count": 68,
     "metadata": {},
     "output_type": "execute_result"
    }
   ],
   "source": [
    "#upsampling using smote\n",
    "enc = SMOTE(k_neighbors=2)\n",
    "X_train,y_train = enc.fit_sample(X_train.astype(float),y_train.astype(float))\n",
    "y_train.value_counts()"
   ]
  },
  {
   "cell_type": "markdown",
   "metadata": {},
   "source": [
    "# 11.Modelling"
   ]
  },
  {
   "cell_type": "markdown",
   "metadata": {},
   "source": [
    "***modelling using Logistic_model***"
   ]
  },
  {
   "cell_type": "code",
   "execution_count": 69,
   "metadata": {},
   "outputs": [
    {
     "data": {
      "text/plain": [
       "0.7633477633477633"
      ]
     },
     "execution_count": 69,
     "metadata": {},
     "output_type": "execute_result"
    }
   ],
   "source": [
    "model = LogisticRegression(random_state=24)\n",
    "model.fit(X_train,y_train)\n",
    "y_predict = model.predict(X_test)\n",
    "accuracy_score(y_test,y_predict)"
   ]
  },
  {
   "cell_type": "markdown",
   "metadata": {},
   "source": [
    "we are getting around 85% accuracy. ie., our model efficiency is less"
   ]
  },
  {
   "cell_type": "code",
   "execution_count": 70,
   "metadata": {},
   "outputs": [
    {
     "data": {
      "text/html": [
       "<div>\n",
       "<style scoped>\n",
       "    .dataframe tbody tr th:only-of-type {\n",
       "        vertical-align: middle;\n",
       "    }\n",
       "\n",
       "    .dataframe tbody tr th {\n",
       "        vertical-align: top;\n",
       "    }\n",
       "\n",
       "    .dataframe thead th {\n",
       "        text-align: right;\n",
       "    }\n",
       "</style>\n",
       "<table border=\"1\" class=\"dataframe\">\n",
       "  <thead>\n",
       "    <tr style=\"text-align: right;\">\n",
       "      <th>col_0</th>\n",
       "      <th>0.0</th>\n",
       "      <th>1.0</th>\n",
       "    </tr>\n",
       "    <tr>\n",
       "      <th>Churn</th>\n",
       "      <th></th>\n",
       "      <th></th>\n",
       "    </tr>\n",
       "  </thead>\n",
       "  <tbody>\n",
       "    <tr>\n",
       "      <th>0</th>\n",
       "      <td>911</td>\n",
       "      <td>274</td>\n",
       "    </tr>\n",
       "    <tr>\n",
       "      <th>1</th>\n",
       "      <td>54</td>\n",
       "      <td>147</td>\n",
       "    </tr>\n",
       "  </tbody>\n",
       "</table>\n",
       "</div>"
      ],
      "text/plain": [
       "col_0  0.0  1.0\n",
       "Churn          \n",
       "0      911  274\n",
       "1       54  147"
      ]
     },
     "execution_count": 70,
     "metadata": {},
     "output_type": "execute_result"
    }
   ],
   "source": [
    "pd.crosstab(y_test,y_predict)"
   ]
  },
  {
   "cell_type": "markdown",
   "metadata": {},
   "source": [
    "we did scaling for logistic regression, however after doing it we see that the data points are coming closer and is creating conflict while finding the best fit line. This results in an Overfitting problem and the recall rate is too small. Hence, we decided to go with other ML models rather than logistic model."
   ]
  },
  {
   "cell_type": "markdown",
   "metadata": {},
   "source": [
    "***modelling using KNN***"
   ]
  },
  {
   "cell_type": "code",
   "execution_count": 105,
   "metadata": {},
   "outputs": [
    {
     "data": {
      "text/plain": [
       "0.8362193362193362"
      ]
     },
     "execution_count": 105,
     "metadata": {},
     "output_type": "execute_result"
    }
   ],
   "source": [
    "model = KNeighborsClassifier(n_neighbors=15)\n",
    "model.fit(X_train,y_train)\n",
    "y_predict = model.predict(X_test)\n",
    "accuracy_score(y_test,y_predict)"
   ]
  },
  {
   "cell_type": "markdown",
   "metadata": {},
   "source": [
    "Accuracy is increasing by using KNN but we need to get accuracy grater than 90% as well as KNN works on finding neibours here scailing is required. so we can consider another model for better accuracy"
   ]
  },
  {
   "cell_type": "code",
   "execution_count": 106,
   "metadata": {},
   "outputs": [
    {
     "data": {
      "text/html": [
       "<div>\n",
       "<style scoped>\n",
       "    .dataframe tbody tr th:only-of-type {\n",
       "        vertical-align: middle;\n",
       "    }\n",
       "\n",
       "    .dataframe tbody tr th {\n",
       "        vertical-align: top;\n",
       "    }\n",
       "\n",
       "    .dataframe thead th {\n",
       "        text-align: right;\n",
       "    }\n",
       "</style>\n",
       "<table border=\"1\" class=\"dataframe\">\n",
       "  <thead>\n",
       "    <tr style=\"text-align: right;\">\n",
       "      <th>col_0</th>\n",
       "      <th>0.0</th>\n",
       "      <th>1.0</th>\n",
       "    </tr>\n",
       "    <tr>\n",
       "      <th>Churn</th>\n",
       "      <th></th>\n",
       "      <th></th>\n",
       "    </tr>\n",
       "  </thead>\n",
       "  <tbody>\n",
       "    <tr>\n",
       "      <th>0</th>\n",
       "      <td>990</td>\n",
       "      <td>195</td>\n",
       "    </tr>\n",
       "    <tr>\n",
       "      <th>1</th>\n",
       "      <td>32</td>\n",
       "      <td>169</td>\n",
       "    </tr>\n",
       "  </tbody>\n",
       "</table>\n",
       "</div>"
      ],
      "text/plain": [
       "col_0  0.0  1.0\n",
       "Churn          \n",
       "0      990  195\n",
       "1       32  169"
      ]
     },
     "execution_count": 106,
     "metadata": {},
     "output_type": "execute_result"
    }
   ],
   "source": [
    "pd.crosstab(y_test,y_predict)"
   ]
  },
  {
   "cell_type": "markdown",
   "metadata": {},
   "source": [
    "above cross tab says that the model works better in finding \"0\" but in case of \"1\" it fails"
   ]
  },
  {
   "cell_type": "markdown",
   "metadata": {},
   "source": [
    "***modelling using SVM***"
   ]
  },
  {
   "cell_type": "code",
   "execution_count": 73,
   "metadata": {},
   "outputs": [
    {
     "data": {
      "text/plain": [
       "0.9213564213564214"
      ]
     },
     "execution_count": 73,
     "metadata": {},
     "output_type": "execute_result"
    }
   ],
   "source": [
    "model = SVC()\n",
    "model.fit(X_train,y_train)\n",
    "y_predict = model.predict(X_test)\n",
    "accuracy_score(y_test,y_predict)"
   ]
  },
  {
   "cell_type": "markdown",
   "metadata": {},
   "source": [
    "SVM gives good accuracy than KNN but svm also works in distance method so the model mayget better perfomance after scailing."
   ]
  },
  {
   "cell_type": "code",
   "execution_count": 74,
   "metadata": {},
   "outputs": [
    {
     "data": {
      "text/html": [
       "<div>\n",
       "<style scoped>\n",
       "    .dataframe tbody tr th:only-of-type {\n",
       "        vertical-align: middle;\n",
       "    }\n",
       "\n",
       "    .dataframe tbody tr th {\n",
       "        vertical-align: top;\n",
       "    }\n",
       "\n",
       "    .dataframe thead th {\n",
       "        text-align: right;\n",
       "    }\n",
       "</style>\n",
       "<table border=\"1\" class=\"dataframe\">\n",
       "  <thead>\n",
       "    <tr style=\"text-align: right;\">\n",
       "      <th>col_0</th>\n",
       "      <th>0.0</th>\n",
       "      <th>1.0</th>\n",
       "    </tr>\n",
       "    <tr>\n",
       "      <th>Churn</th>\n",
       "      <th></th>\n",
       "      <th></th>\n",
       "    </tr>\n",
       "  </thead>\n",
       "  <tbody>\n",
       "    <tr>\n",
       "      <th>0</th>\n",
       "      <td>1117</td>\n",
       "      <td>68</td>\n",
       "    </tr>\n",
       "    <tr>\n",
       "      <th>1</th>\n",
       "      <td>41</td>\n",
       "      <td>160</td>\n",
       "    </tr>\n",
       "  </tbody>\n",
       "</table>\n",
       "</div>"
      ],
      "text/plain": [
       "col_0   0.0  1.0\n",
       "Churn           \n",
       "0      1117   68\n",
       "1        41  160"
      ]
     },
     "execution_count": 74,
     "metadata": {},
     "output_type": "execute_result"
    }
   ],
   "source": [
    "pd.crosstab(y_test,y_predict)"
   ]
  },
  {
   "cell_type": "markdown",
   "metadata": {},
   "source": [
    "SVM works better than other models in case of \"0\" ie., error is too small but while considering \"1\" its a failed model and our main requirements is to find \"1\" not \"0\" hence we drop this model and moving to another model"
   ]
  },
  {
   "cell_type": "markdown",
   "metadata": {},
   "source": [
    "***modelling using XGBOOST***"
   ]
  },
  {
   "cell_type": "code",
   "execution_count": 75,
   "metadata": {},
   "outputs": [
    {
     "data": {
      "text/plain": [
       "0.9559884559884559"
      ]
     },
     "execution_count": 75,
     "metadata": {},
     "output_type": "execute_result"
    }
   ],
   "source": [
    "model = XGBClassifier(random_state=100)\n",
    "model.fit(X_train,y_train)\n",
    "y_predict = model.predict(X_test)\n",
    "accuracy_score(y_test,y_predict)"
   ]
  },
  {
   "cell_type": "markdown",
   "metadata": {},
   "source": [
    "XGBOOST is working very good in this data set and giving about 95% accuracy"
   ]
  },
  {
   "cell_type": "code",
   "execution_count": 76,
   "metadata": {},
   "outputs": [
    {
     "data": {
      "text/html": [
       "<div>\n",
       "<style scoped>\n",
       "    .dataframe tbody tr th:only-of-type {\n",
       "        vertical-align: middle;\n",
       "    }\n",
       "\n",
       "    .dataframe tbody tr th {\n",
       "        vertical-align: top;\n",
       "    }\n",
       "\n",
       "    .dataframe thead th {\n",
       "        text-align: right;\n",
       "    }\n",
       "</style>\n",
       "<table border=\"1\" class=\"dataframe\">\n",
       "  <thead>\n",
       "    <tr style=\"text-align: right;\">\n",
       "      <th>col_0</th>\n",
       "      <th>0.0</th>\n",
       "      <th>1.0</th>\n",
       "    </tr>\n",
       "    <tr>\n",
       "      <th>Churn</th>\n",
       "      <th></th>\n",
       "      <th></th>\n",
       "    </tr>\n",
       "  </thead>\n",
       "  <tbody>\n",
       "    <tr>\n",
       "      <th>0</th>\n",
       "      <td>1164</td>\n",
       "      <td>21</td>\n",
       "    </tr>\n",
       "    <tr>\n",
       "      <th>1</th>\n",
       "      <td>40</td>\n",
       "      <td>161</td>\n",
       "    </tr>\n",
       "  </tbody>\n",
       "</table>\n",
       "</div>"
      ],
      "text/plain": [
       "col_0   0.0  1.0\n",
       "Churn           \n",
       "0      1164   21\n",
       "1        40  161"
      ]
     },
     "execution_count": 76,
     "metadata": {},
     "output_type": "execute_result"
    }
   ],
   "source": [
    "pd.crosstab(y_test,y_predict)"
   ]
  },
  {
   "cell_type": "code",
   "execution_count": 107,
   "metadata": {},
   "outputs": [
    {
     "name": "stdout",
     "output_type": "stream",
     "text": [
      "              precision    recall  f1-score   support\n",
      "\n",
      "           0       0.97      0.84      0.90      1185\n",
      "           1       0.46      0.84      0.60       201\n",
      "\n",
      "    accuracy                           0.84      1386\n",
      "   macro avg       0.72      0.84      0.75      1386\n",
      "weighted avg       0.90      0.84      0.85      1386\n",
      "\n"
     ]
    }
   ],
   "source": [
    "print(classification_report(y_test,y_predict))"
   ]
  },
  {
   "cell_type": "markdown",
   "metadata": {},
   "source": [
    "XGB is working good and most of the points are predicted correctly so we can go with XGB"
   ]
  },
  {
   "cell_type": "markdown",
   "metadata": {},
   "source": [
    "***modelling using RandomForest***"
   ]
  },
  {
   "cell_type": "code",
   "execution_count": 113,
   "metadata": {},
   "outputs": [
    {
     "data": {
      "text/plain": [
       "0.9574314574314574"
      ]
     },
     "execution_count": 113,
     "metadata": {},
     "output_type": "execute_result"
    }
   ],
   "source": [
    "#modelling \n",
    "model = RandomForestClassifier(random_state=10)\n",
    "model.fit(X_train,y_train)\n",
    "y_predict = model.predict(X_test)\n",
    "accuracy_score(y_test,y_predict)"
   ]
  },
  {
   "cell_type": "markdown",
   "metadata": {},
   "source": [
    "Random_Forest is working very good in this data set and giving about 95% accuracy"
   ]
  },
  {
   "cell_type": "code",
   "execution_count": 114,
   "metadata": {},
   "outputs": [
    {
     "data": {
      "text/html": [
       "<div>\n",
       "<style scoped>\n",
       "    .dataframe tbody tr th:only-of-type {\n",
       "        vertical-align: middle;\n",
       "    }\n",
       "\n",
       "    .dataframe tbody tr th {\n",
       "        vertical-align: top;\n",
       "    }\n",
       "\n",
       "    .dataframe thead th {\n",
       "        text-align: right;\n",
       "    }\n",
       "</style>\n",
       "<table border=\"1\" class=\"dataframe\">\n",
       "  <thead>\n",
       "    <tr style=\"text-align: right;\">\n",
       "      <th>col_0</th>\n",
       "      <th>0.0</th>\n",
       "      <th>1.0</th>\n",
       "    </tr>\n",
       "    <tr>\n",
       "      <th>Churn</th>\n",
       "      <th></th>\n",
       "      <th></th>\n",
       "    </tr>\n",
       "  </thead>\n",
       "  <tbody>\n",
       "    <tr>\n",
       "      <th>0</th>\n",
       "      <td>1168</td>\n",
       "      <td>17</td>\n",
       "    </tr>\n",
       "    <tr>\n",
       "      <th>1</th>\n",
       "      <td>42</td>\n",
       "      <td>159</td>\n",
       "    </tr>\n",
       "  </tbody>\n",
       "</table>\n",
       "</div>"
      ],
      "text/plain": [
       "col_0   0.0  1.0\n",
       "Churn           \n",
       "0      1168   17\n",
       "1        42  159"
      ]
     },
     "execution_count": 114,
     "metadata": {},
     "output_type": "execute_result"
    }
   ],
   "source": [
    "#printing crosstab\n",
    "pd.crosstab(y_test,y_predict)"
   ]
  },
  {
   "cell_type": "markdown",
   "metadata": {},
   "source": [
    "Random_Forest is working good and most of the points are predicted correctly so we can go with XGB"
   ]
  },
  {
   "cell_type": "markdown",
   "metadata": {},
   "source": [
    "While comparing all the models Random forest gives good accuracy as well it is a stable model as compired to others hence we decided to go with Random forest "
   ]
  },
  {
   "cell_type": "code",
   "execution_count": 115,
   "metadata": {},
   "outputs": [
    {
     "name": "stdout",
     "output_type": "stream",
     "text": [
      "              precision    recall  f1-score   support\n",
      "\n",
      "           0       0.97      0.99      0.98      1185\n",
      "           1       0.90      0.79      0.84       201\n",
      "\n",
      "    accuracy                           0.96      1386\n",
      "   macro avg       0.93      0.89      0.91      1386\n",
      "weighted avg       0.96      0.96      0.96      1386\n",
      "\n"
     ]
    }
   ],
   "source": [
    "#printing classification_report\n",
    "print(classification_report(y_test,y_predict))"
   ]
  },
  {
   "cell_type": "markdown",
   "metadata": {},
   "source": [
    "from the above report its clear that precision score and recall score both are grater than 88% so the model is working good "
   ]
  },
  {
   "cell_type": "markdown",
   "metadata": {},
   "source": [
    "#### ->Cross_Validation_Score(CV_Score)"
   ]
  },
  {
   "cell_type": "code",
   "execution_count": 116,
   "metadata": {},
   "outputs": [
    {
     "data": {
      "text/plain": [
       "array([0.95155709, 0.94454073, 0.95667244, 0.96013865, 0.95147314,\n",
       "       0.96187175, 0.94627383, 0.96013865])"
      ]
     },
     "execution_count": 116,
     "metadata": {},
     "output_type": "execute_result"
    }
   ],
   "source": [
    "CV_score = cross_val_score(RandomForestClassifier(),X,y,cv=8)\n",
    "CV_score"
   ]
  },
  {
   "cell_type": "code",
   "execution_count": 117,
   "metadata": {},
   "outputs": [
    {
     "name": "stdout",
     "output_type": "stream",
     "text": [
      "Maximum CV_score obtained :  0.9618717504332756\n",
      "Minimum CV_score obtained :  0.9445407279029463\n",
      "Average CV_score obtained :  0.9540832848584433\n"
     ]
    }
   ],
   "source": [
    "print(\"Maximum CV_score obtained : \", max(CV_score))\n",
    "print(\"Minimum CV_score obtained : \", min(CV_score))\n",
    "print(\"Average CV_score obtained : \", CV_score.mean())"
   ]
  },
  {
   "cell_type": "markdown",
   "metadata": {},
   "source": [
    "By refering the above cell we can say that our model is not overfitted so we can continue with this model"
   ]
  },
  {
   "cell_type": "markdown",
   "metadata": {},
   "source": [
    "#### -> Hyper_Parameter_Tuning using Grid_Search_CV"
   ]
  },
  {
   "cell_type": "code",
   "execution_count": 83,
   "metadata": {},
   "outputs": [],
   "source": [
    "#parameter grid to pass values to grid search cv\n",
    "parameters = { \n",
    "                \"n_estimators\" : [100,120,150],\n",
    "                \"random_state\" : [10,24,40,100],\n",
    "                \"max_depth\"    : [5,10,15],\n",
    "                \"min_samples_split\" : [5,10,15],\n",
    "                \"min_samples_leaf\"  : [3,4,5],\n",
    "             }"
   ]
  },
  {
   "cell_type": "code",
   "execution_count": 84,
   "metadata": {},
   "outputs": [],
   "source": [
    "#grid_score = GridSearchCV(RandomForestClassifier(),param_grid=parameters,verbose=2,scoring=\"accuracy\")\n",
    "#grid_score.fit(X_train,y_train)"
   ]
  },
  {
   "cell_type": "code",
   "execution_count": 85,
   "metadata": {},
   "outputs": [],
   "source": [
    "#grid_score.best_score_"
   ]
  },
  {
   "cell_type": "code",
   "execution_count": 86,
   "metadata": {},
   "outputs": [],
   "source": [
    "#grid_score.best_params_\n"
   ]
  },
  {
   "cell_type": "markdown",
   "metadata": {},
   "source": [
    "### Randamized_Search CV"
   ]
  },
  {
   "cell_type": "code",
   "execution_count": 87,
   "metadata": {},
   "outputs": [
    {
     "name": "stdout",
     "output_type": "stream",
     "text": [
      "Fitting 5 folds for each of 10 candidates, totalling 50 fits\n",
      "[CV] random_state=40, n_estimators=100, min_samples_split=10, min_samples_leaf=5, max_depth=15 \n"
     ]
    },
    {
     "name": "stderr",
     "output_type": "stream",
     "text": [
      "[Parallel(n_jobs=1)]: Using backend SequentialBackend with 1 concurrent workers.\n"
     ]
    },
    {
     "name": "stdout",
     "output_type": "stream",
     "text": [
      "[CV]  random_state=40, n_estimators=100, min_samples_split=10, min_samples_leaf=5, max_depth=15, total=   1.0s\n",
      "[CV] random_state=40, n_estimators=100, min_samples_split=10, min_samples_leaf=5, max_depth=15 \n"
     ]
    },
    {
     "name": "stderr",
     "output_type": "stream",
     "text": [
      "[Parallel(n_jobs=1)]: Done   1 out of   1 | elapsed:    0.9s remaining:    0.0s\n"
     ]
    },
    {
     "name": "stdout",
     "output_type": "stream",
     "text": [
      "[CV]  random_state=40, n_estimators=100, min_samples_split=10, min_samples_leaf=5, max_depth=15, total=   1.0s\n",
      "[CV] random_state=40, n_estimators=100, min_samples_split=10, min_samples_leaf=5, max_depth=15 \n",
      "[CV]  random_state=40, n_estimators=100, min_samples_split=10, min_samples_leaf=5, max_depth=15, total=   0.9s\n",
      "[CV] random_state=40, n_estimators=100, min_samples_split=10, min_samples_leaf=5, max_depth=15 \n",
      "[CV]  random_state=40, n_estimators=100, min_samples_split=10, min_samples_leaf=5, max_depth=15, total=   1.1s\n",
      "[CV] random_state=40, n_estimators=100, min_samples_split=10, min_samples_leaf=5, max_depth=15 \n",
      "[CV]  random_state=40, n_estimators=100, min_samples_split=10, min_samples_leaf=5, max_depth=15, total=   1.0s\n",
      "[CV] random_state=100, n_estimators=150, min_samples_split=10, min_samples_leaf=5, max_depth=10 \n",
      "[CV]  random_state=100, n_estimators=150, min_samples_split=10, min_samples_leaf=5, max_depth=10, total=   1.3s\n",
      "[CV] random_state=100, n_estimators=150, min_samples_split=10, min_samples_leaf=5, max_depth=10 \n",
      "[CV]  random_state=100, n_estimators=150, min_samples_split=10, min_samples_leaf=5, max_depth=10, total=   1.3s\n",
      "[CV] random_state=100, n_estimators=150, min_samples_split=10, min_samples_leaf=5, max_depth=10 \n",
      "[CV]  random_state=100, n_estimators=150, min_samples_split=10, min_samples_leaf=5, max_depth=10, total=   1.3s\n",
      "[CV] random_state=100, n_estimators=150, min_samples_split=10, min_samples_leaf=5, max_depth=10 \n",
      "[CV]  random_state=100, n_estimators=150, min_samples_split=10, min_samples_leaf=5, max_depth=10, total=   1.5s\n",
      "[CV] random_state=100, n_estimators=150, min_samples_split=10, min_samples_leaf=5, max_depth=10 \n",
      "[CV]  random_state=100, n_estimators=150, min_samples_split=10, min_samples_leaf=5, max_depth=10, total=   1.3s\n",
      "[CV] random_state=24, n_estimators=150, min_samples_split=15, min_samples_leaf=4, max_depth=5 \n",
      "[CV]  random_state=24, n_estimators=150, min_samples_split=15, min_samples_leaf=4, max_depth=5, total=   1.0s\n",
      "[CV] random_state=24, n_estimators=150, min_samples_split=15, min_samples_leaf=4, max_depth=5 \n",
      "[CV]  random_state=24, n_estimators=150, min_samples_split=15, min_samples_leaf=4, max_depth=5, total=   1.0s\n",
      "[CV] random_state=24, n_estimators=150, min_samples_split=15, min_samples_leaf=4, max_depth=5 \n",
      "[CV]  random_state=24, n_estimators=150, min_samples_split=15, min_samples_leaf=4, max_depth=5, total=   1.1s\n",
      "[CV] random_state=24, n_estimators=150, min_samples_split=15, min_samples_leaf=4, max_depth=5 \n",
      "[CV]  random_state=24, n_estimators=150, min_samples_split=15, min_samples_leaf=4, max_depth=5, total=   1.1s\n",
      "[CV] random_state=24, n_estimators=150, min_samples_split=15, min_samples_leaf=4, max_depth=5 \n",
      "[CV]  random_state=24, n_estimators=150, min_samples_split=15, min_samples_leaf=4, max_depth=5, total=   1.0s\n",
      "[CV] random_state=10, n_estimators=120, min_samples_split=10, min_samples_leaf=5, max_depth=10 \n",
      "[CV]  random_state=10, n_estimators=120, min_samples_split=10, min_samples_leaf=5, max_depth=10, total=   1.1s\n",
      "[CV] random_state=10, n_estimators=120, min_samples_split=10, min_samples_leaf=5, max_depth=10 \n",
      "[CV]  random_state=10, n_estimators=120, min_samples_split=10, min_samples_leaf=5, max_depth=10, total=   1.2s\n",
      "[CV] random_state=10, n_estimators=120, min_samples_split=10, min_samples_leaf=5, max_depth=10 \n",
      "[CV]  random_state=10, n_estimators=120, min_samples_split=10, min_samples_leaf=5, max_depth=10, total=   1.3s\n",
      "[CV] random_state=10, n_estimators=120, min_samples_split=10, min_samples_leaf=5, max_depth=10 \n",
      "[CV]  random_state=10, n_estimators=120, min_samples_split=10, min_samples_leaf=5, max_depth=10, total=   1.1s\n",
      "[CV] random_state=10, n_estimators=120, min_samples_split=10, min_samples_leaf=5, max_depth=10 \n",
      "[CV]  random_state=10, n_estimators=120, min_samples_split=10, min_samples_leaf=5, max_depth=10, total=   1.0s\n",
      "[CV] random_state=100, n_estimators=120, min_samples_split=5, min_samples_leaf=3, max_depth=10 \n",
      "[CV]  random_state=100, n_estimators=120, min_samples_split=5, min_samples_leaf=3, max_depth=10, total=   1.1s\n",
      "[CV] random_state=100, n_estimators=120, min_samples_split=5, min_samples_leaf=3, max_depth=10 \n",
      "[CV]  random_state=100, n_estimators=120, min_samples_split=5, min_samples_leaf=3, max_depth=10, total=   1.1s\n",
      "[CV] random_state=100, n_estimators=120, min_samples_split=5, min_samples_leaf=3, max_depth=10 \n",
      "[CV]  random_state=100, n_estimators=120, min_samples_split=5, min_samples_leaf=3, max_depth=10, total=   1.3s\n",
      "[CV] random_state=100, n_estimators=120, min_samples_split=5, min_samples_leaf=3, max_depth=10 \n",
      "[CV]  random_state=100, n_estimators=120, min_samples_split=5, min_samples_leaf=3, max_depth=10, total=   1.0s\n",
      "[CV] random_state=100, n_estimators=120, min_samples_split=5, min_samples_leaf=3, max_depth=10 \n",
      "[CV]  random_state=100, n_estimators=120, min_samples_split=5, min_samples_leaf=3, max_depth=10, total=   1.1s\n",
      "[CV] random_state=24, n_estimators=120, min_samples_split=10, min_samples_leaf=3, max_depth=15 \n",
      "[CV]  random_state=24, n_estimators=120, min_samples_split=10, min_samples_leaf=3, max_depth=15, total=   1.2s\n",
      "[CV] random_state=24, n_estimators=120, min_samples_split=10, min_samples_leaf=3, max_depth=15 \n",
      "[CV]  random_state=24, n_estimators=120, min_samples_split=10, min_samples_leaf=3, max_depth=15, total=   1.1s\n",
      "[CV] random_state=24, n_estimators=120, min_samples_split=10, min_samples_leaf=3, max_depth=15 \n",
      "[CV]  random_state=24, n_estimators=120, min_samples_split=10, min_samples_leaf=3, max_depth=15, total=   1.5s\n",
      "[CV] random_state=24, n_estimators=120, min_samples_split=10, min_samples_leaf=3, max_depth=15 \n",
      "[CV]  random_state=24, n_estimators=120, min_samples_split=10, min_samples_leaf=3, max_depth=15, total=   1.1s\n",
      "[CV] random_state=24, n_estimators=120, min_samples_split=10, min_samples_leaf=3, max_depth=15 \n",
      "[CV]  random_state=24, n_estimators=120, min_samples_split=10, min_samples_leaf=3, max_depth=15, total=   1.1s\n",
      "[CV] random_state=24, n_estimators=100, min_samples_split=5, min_samples_leaf=5, max_depth=5 \n",
      "[CV]  random_state=24, n_estimators=100, min_samples_split=5, min_samples_leaf=5, max_depth=5, total=   0.7s\n",
      "[CV] random_state=24, n_estimators=100, min_samples_split=5, min_samples_leaf=5, max_depth=5 \n",
      "[CV]  random_state=24, n_estimators=100, min_samples_split=5, min_samples_leaf=5, max_depth=5, total=   0.7s\n",
      "[CV] random_state=24, n_estimators=100, min_samples_split=5, min_samples_leaf=5, max_depth=5 \n",
      "[CV]  random_state=24, n_estimators=100, min_samples_split=5, min_samples_leaf=5, max_depth=5, total=   0.7s\n",
      "[CV] random_state=24, n_estimators=100, min_samples_split=5, min_samples_leaf=5, max_depth=5 \n",
      "[CV]  random_state=24, n_estimators=100, min_samples_split=5, min_samples_leaf=5, max_depth=5, total=   0.9s\n",
      "[CV] random_state=24, n_estimators=100, min_samples_split=5, min_samples_leaf=5, max_depth=5 \n",
      "[CV]  random_state=24, n_estimators=100, min_samples_split=5, min_samples_leaf=5, max_depth=5, total=   0.7s\n",
      "[CV] random_state=40, n_estimators=100, min_samples_split=15, min_samples_leaf=3, max_depth=10 \n",
      "[CV]  random_state=40, n_estimators=100, min_samples_split=15, min_samples_leaf=3, max_depth=10, total=   0.9s\n",
      "[CV] random_state=40, n_estimators=100, min_samples_split=15, min_samples_leaf=3, max_depth=10 \n",
      "[CV]  random_state=40, n_estimators=100, min_samples_split=15, min_samples_leaf=3, max_depth=10, total=   0.9s\n",
      "[CV] random_state=40, n_estimators=100, min_samples_split=15, min_samples_leaf=3, max_depth=10 \n",
      "[CV]  random_state=40, n_estimators=100, min_samples_split=15, min_samples_leaf=3, max_depth=10, total=   0.9s\n",
      "[CV] random_state=40, n_estimators=100, min_samples_split=15, min_samples_leaf=3, max_depth=10 \n",
      "[CV]  random_state=40, n_estimators=100, min_samples_split=15, min_samples_leaf=3, max_depth=10, total=   0.9s\n",
      "[CV] random_state=40, n_estimators=100, min_samples_split=15, min_samples_leaf=3, max_depth=10 \n",
      "[CV]  random_state=40, n_estimators=100, min_samples_split=15, min_samples_leaf=3, max_depth=10, total=   1.1s\n",
      "[CV] random_state=10, n_estimators=100, min_samples_split=5, min_samples_leaf=5, max_depth=15 \n",
      "[CV]  random_state=10, n_estimators=100, min_samples_split=5, min_samples_leaf=5, max_depth=15, total=   0.9s\n",
      "[CV] random_state=10, n_estimators=100, min_samples_split=5, min_samples_leaf=5, max_depth=15 \n"
     ]
    },
    {
     "name": "stdout",
     "output_type": "stream",
     "text": [
      "[CV]  random_state=10, n_estimators=100, min_samples_split=5, min_samples_leaf=5, max_depth=15, total=   0.9s\n",
      "[CV] random_state=10, n_estimators=100, min_samples_split=5, min_samples_leaf=5, max_depth=15 \n",
      "[CV]  random_state=10, n_estimators=100, min_samples_split=5, min_samples_leaf=5, max_depth=15, total=   1.0s\n",
      "[CV] random_state=10, n_estimators=100, min_samples_split=5, min_samples_leaf=5, max_depth=15 \n",
      "[CV]  random_state=10, n_estimators=100, min_samples_split=5, min_samples_leaf=5, max_depth=15, total=   0.9s\n",
      "[CV] random_state=10, n_estimators=100, min_samples_split=5, min_samples_leaf=5, max_depth=15 \n",
      "[CV]  random_state=10, n_estimators=100, min_samples_split=5, min_samples_leaf=5, max_depth=15, total=   1.0s\n",
      "[CV] random_state=24, n_estimators=100, min_samples_split=5, min_samples_leaf=3, max_depth=15 \n",
      "[CV]  random_state=24, n_estimators=100, min_samples_split=5, min_samples_leaf=3, max_depth=15, total=   1.2s\n",
      "[CV] random_state=24, n_estimators=100, min_samples_split=5, min_samples_leaf=3, max_depth=15 \n",
      "[CV]  random_state=24, n_estimators=100, min_samples_split=5, min_samples_leaf=3, max_depth=15, total=   1.0s\n",
      "[CV] random_state=24, n_estimators=100, min_samples_split=5, min_samples_leaf=3, max_depth=15 \n",
      "[CV]  random_state=24, n_estimators=100, min_samples_split=5, min_samples_leaf=3, max_depth=15, total=   1.0s\n",
      "[CV] random_state=24, n_estimators=100, min_samples_split=5, min_samples_leaf=3, max_depth=15 \n",
      "[CV]  random_state=24, n_estimators=100, min_samples_split=5, min_samples_leaf=3, max_depth=15, total=   1.0s\n",
      "[CV] random_state=24, n_estimators=100, min_samples_split=5, min_samples_leaf=3, max_depth=15 \n",
      "[CV]  random_state=24, n_estimators=100, min_samples_split=5, min_samples_leaf=3, max_depth=15, total=   1.0s\n"
     ]
    },
    {
     "name": "stderr",
     "output_type": "stream",
     "text": [
      "[Parallel(n_jobs=1)]: Done  50 out of  50 | elapsed:   52.5s finished\n"
     ]
    },
    {
     "data": {
      "text/plain": [
       "RandomizedSearchCV(estimator=RandomForestClassifier(),\n",
       "                   param_distributions={'max_depth': [5, 10, 15],\n",
       "                                        'min_samples_leaf': [3, 4, 5],\n",
       "                                        'min_samples_split': [5, 10, 15],\n",
       "                                        'n_estimators': [100, 120, 150],\n",
       "                                        'random_state': [10, 24, 40, 100]},\n",
       "                   scoring='accuracy', verbose=2)"
      ]
     },
     "execution_count": 87,
     "metadata": {},
     "output_type": "execute_result"
    }
   ],
   "source": [
    "rs_score = RandomizedSearchCV(RandomForestClassifier(),parameters,verbose=2,scoring=\"accuracy\")\n",
    "rs_score.fit(X_train,y_train)"
   ]
  },
  {
   "cell_type": "code",
   "execution_count": 88,
   "metadata": {},
   "outputs": [
    {
     "data": {
      "text/plain": [
       "0.952994380519133"
      ]
     },
     "execution_count": 88,
     "metadata": {},
     "output_type": "execute_result"
    }
   ],
   "source": [
    "rs_score.best_score_"
   ]
  },
  {
   "cell_type": "code",
   "execution_count": 89,
   "metadata": {},
   "outputs": [
    {
     "data": {
      "text/plain": [
       "{'random_state': 24,\n",
       " 'n_estimators': 100,\n",
       " 'min_samples_split': 5,\n",
       " 'min_samples_leaf': 3,\n",
       " 'max_depth': 15}"
      ]
     },
     "execution_count": 89,
     "metadata": {},
     "output_type": "execute_result"
    }
   ],
   "source": [
    "rs_score.best_params_"
   ]
  },
  {
   "cell_type": "markdown",
   "metadata": {},
   "source": [
    "***Remodelling using Random_Forest with best parameters from GridSearchCV***"
   ]
  },
  {
   "cell_type": "code",
   "execution_count": 101,
   "metadata": {},
   "outputs": [
    {
     "data": {
      "text/plain": [
       "0.9502164502164502"
      ]
     },
     "execution_count": 101,
     "metadata": {},
     "output_type": "execute_result"
    }
   ],
   "source": [
    "# modelling \n",
    "model = RandomForestClassifier(max_depth=15,min_samples_leaf=3,min_samples_split=5,n_estimators=100,random_state=24)\n",
    "model.fit(X_train,y_train)\n",
    "y_predict = model.predict(X_test)\n",
    "accuracy_score(y_test,y_predict)"
   ]
  },
  {
   "cell_type": "code",
   "execution_count": 104,
   "metadata": {},
   "outputs": [
    {
     "data": {
      "text/html": [
       "<div>\n",
       "<style scoped>\n",
       "    .dataframe tbody tr th:only-of-type {\n",
       "        vertical-align: middle;\n",
       "    }\n",
       "\n",
       "    .dataframe tbody tr th {\n",
       "        vertical-align: top;\n",
       "    }\n",
       "\n",
       "    .dataframe thead th {\n",
       "        text-align: right;\n",
       "    }\n",
       "</style>\n",
       "<table border=\"1\" class=\"dataframe\">\n",
       "  <thead>\n",
       "    <tr style=\"text-align: right;\">\n",
       "      <th>col_0</th>\n",
       "      <th>0.0</th>\n",
       "      <th>1.0</th>\n",
       "    </tr>\n",
       "    <tr>\n",
       "      <th>Churn</th>\n",
       "      <th></th>\n",
       "      <th></th>\n",
       "    </tr>\n",
       "  </thead>\n",
       "  <tbody>\n",
       "    <tr>\n",
       "      <th>0</th>\n",
       "      <td>1155</td>\n",
       "      <td>30</td>\n",
       "    </tr>\n",
       "    <tr>\n",
       "      <th>1</th>\n",
       "      <td>39</td>\n",
       "      <td>162</td>\n",
       "    </tr>\n",
       "  </tbody>\n",
       "</table>\n",
       "</div>"
      ],
      "text/plain": [
       "col_0   0.0  1.0\n",
       "Churn           \n",
       "0      1155   30\n",
       "1        39  162"
      ]
     },
     "execution_count": 104,
     "metadata": {},
     "output_type": "execute_result"
    }
   ],
   "source": [
    "#printing crosstab\n",
    "pd.crosstab(y_test,y_predict)"
   ]
  },
  {
   "cell_type": "code",
   "execution_count": 103,
   "metadata": {},
   "outputs": [
    {
     "name": "stdout",
     "output_type": "stream",
     "text": [
      "              precision    recall  f1-score   support\n",
      "\n",
      "           0       0.97      0.97      0.97      1185\n",
      "           1       0.84      0.81      0.82       201\n",
      "\n",
      "    accuracy                           0.95      1386\n",
      "   macro avg       0.91      0.89      0.90      1386\n",
      "weighted avg       0.95      0.95      0.95      1386\n",
      "\n"
     ]
    }
   ],
   "source": [
    "# priting classification report\n",
    "print(classification_report(y_test,y_predict))"
   ]
  },
  {
   "cell_type": "markdown",
   "metadata": {},
   "source": [
    "# 12.Saving model as Pickle"
   ]
  },
  {
   "cell_type": "markdown",
   "metadata": {},
   "source": [
    "To export a file first we need to save the model as a pickle(here we are saving the pickle in binary format)"
   ]
  },
  {
   "cell_type": "code",
   "execution_count": 93,
   "metadata": {},
   "outputs": [],
   "source": [
    "# 1.fp is file pointer which points towards the file \"model.pkl\", open function is used to create a file , \"wb\" means the mode write in binary\n",
    "# 2.after the use of file pointer we need to close the file pointer otherwise we will get error\n",
    "# 3.pkl is the alias name of pickle and pkl is used to save the ML models,dump is a function inside the pickle to insert the values into the pointed file \n",
    "\n",
    "\n",
    "fp = open(\"model.pkl\",\"wb\")\n",
    "pkl.dump(model,fp)\n",
    "fp.close()"
   ]
  },
  {
   "cell_type": "markdown",
   "metadata": {},
   "source": [
    "## Churn risk score"
   ]
  },
  {
   "cell_type": "markdown",
   "metadata": {},
   "source": [
    "##### formula for finding churn_rate :-\n",
    " \n",
    "#### Churn Rate =  (users at the begining of period - users at the end of the period)/users at the begining of the period"
   ]
  },
  {
   "cell_type": "code",
   "execution_count": 94,
   "metadata": {},
   "outputs": [
    {
     "data": {
      "text/plain": [
       "(4617, 9)"
      ]
     },
     "execution_count": 94,
     "metadata": {},
     "output_type": "execute_result"
    }
   ],
   "source": [
    "data.shape"
   ]
  },
  {
   "cell_type": "code",
   "execution_count": 95,
   "metadata": {},
   "outputs": [
    {
     "data": {
      "text/html": [
       "<div>\n",
       "<style scoped>\n",
       "    .dataframe tbody tr th:only-of-type {\n",
       "        vertical-align: middle;\n",
       "    }\n",
       "\n",
       "    .dataframe tbody tr th {\n",
       "        vertical-align: top;\n",
       "    }\n",
       "\n",
       "    .dataframe thead th {\n",
       "        text-align: right;\n",
       "    }\n",
       "</style>\n",
       "<table border=\"1\" class=\"dataframe\">\n",
       "  <thead>\n",
       "    <tr style=\"text-align: right;\">\n",
       "      <th></th>\n",
       "      <th>International_Plan</th>\n",
       "      <th>VMail_Plan</th>\n",
       "      <th>Day_Mins</th>\n",
       "      <th>Eve_Mins</th>\n",
       "      <th>Night_Mins</th>\n",
       "      <th>International_Mins</th>\n",
       "      <th>International_calls</th>\n",
       "      <th>CustServ_Calls</th>\n",
       "      <th>Churn</th>\n",
       "    </tr>\n",
       "  </thead>\n",
       "  <tbody>\n",
       "    <tr>\n",
       "      <th>0</th>\n",
       "      <td>0</td>\n",
       "      <td>1</td>\n",
       "      <td>265.1</td>\n",
       "      <td>197.40</td>\n",
       "      <td>244.7</td>\n",
       "      <td>10.0</td>\n",
       "      <td>3</td>\n",
       "      <td>1</td>\n",
       "      <td>0</td>\n",
       "    </tr>\n",
       "    <tr>\n",
       "      <th>1</th>\n",
       "      <td>0</td>\n",
       "      <td>1</td>\n",
       "      <td>161.6</td>\n",
       "      <td>195.50</td>\n",
       "      <td>254.4</td>\n",
       "      <td>13.7</td>\n",
       "      <td>3</td>\n",
       "      <td>1</td>\n",
       "      <td>0</td>\n",
       "    </tr>\n",
       "    <tr>\n",
       "      <th>2</th>\n",
       "      <td>0</td>\n",
       "      <td>0</td>\n",
       "      <td>243.4</td>\n",
       "      <td>121.20</td>\n",
       "      <td>162.6</td>\n",
       "      <td>12.2</td>\n",
       "      <td>5</td>\n",
       "      <td>0</td>\n",
       "      <td>0</td>\n",
       "    </tr>\n",
       "    <tr>\n",
       "      <th>3</th>\n",
       "      <td>1</td>\n",
       "      <td>0</td>\n",
       "      <td>299.4</td>\n",
       "      <td>63.75</td>\n",
       "      <td>196.9</td>\n",
       "      <td>6.6</td>\n",
       "      <td>7</td>\n",
       "      <td>2</td>\n",
       "      <td>0</td>\n",
       "    </tr>\n",
       "    <tr>\n",
       "      <th>4</th>\n",
       "      <td>1</td>\n",
       "      <td>0</td>\n",
       "      <td>166.7</td>\n",
       "      <td>148.30</td>\n",
       "      <td>186.9</td>\n",
       "      <td>10.1</td>\n",
       "      <td>3</td>\n",
       "      <td>3</td>\n",
       "      <td>0</td>\n",
       "    </tr>\n",
       "  </tbody>\n",
       "</table>\n",
       "</div>"
      ],
      "text/plain": [
       "   International_Plan  VMail_Plan  Day_Mins  Eve_Mins  Night_Mins  \\\n",
       "0                   0           1     265.1    197.40       244.7   \n",
       "1                   0           1     161.6    195.50       254.4   \n",
       "2                   0           0     243.4    121.20       162.6   \n",
       "3                   1           0     299.4     63.75       196.9   \n",
       "4                   1           0     166.7    148.30       186.9   \n",
       "\n",
       "   International_Mins  International_calls  CustServ_Calls  Churn  \n",
       "0                10.0                    3               1      0  \n",
       "1                13.7                    3               1      0  \n",
       "2                12.2                    5               0      0  \n",
       "3                 6.6                    7               2      0  \n",
       "4                10.1                    3               3      0  "
      ]
     },
     "execution_count": 95,
     "metadata": {},
     "output_type": "execute_result"
    }
   ],
   "source": [
    "data.head()"
   ]
  },
  {
   "cell_type": "code",
   "execution_count": 96,
   "metadata": {},
   "outputs": [
    {
     "data": {
      "text/plain": [
       "0    3961\n",
       "1     656\n",
       "Name: Churn, dtype: int64"
      ]
     },
     "execution_count": 96,
     "metadata": {},
     "output_type": "execute_result"
    }
   ],
   "source": [
    "data.Churn.value_counts()"
   ]
  },
  {
   "cell_type": "markdown",
   "metadata": {},
   "source": [
    "Here 3961 customers are left after the end of the perieod and 656 customers left the company after the end of the perieod"
   ]
  },
  {
   "cell_type": "markdown",
   "metadata": {},
   "source": [
    "->users at the begining of the period  = 4617\n"
   ]
  },
  {
   "cell_type": "markdown",
   "metadata": {},
   "source": [
    "->users at the the end of the period = 3961"
   ]
  },
  {
   "cell_type": "markdown",
   "metadata": {},
   "source": [
    "#### Churn Rate =  (users at the begining of period - users at the end of the period)/users at the begining of the period"
   ]
  },
  {
   "cell_type": "code",
   "execution_count": 97,
   "metadata": {},
   "outputs": [
    {
     "data": {
      "text/plain": [
       "14.208360407190817"
      ]
     },
     "execution_count": 97,
     "metadata": {},
     "output_type": "execute_result"
    }
   ],
   "source": [
    "churn_score_1 = (4617-3961)/4617 * 100\n",
    "churn_score_1"
   ]
  },
  {
   "cell_type": "markdown",
   "metadata": {},
   "source": [
    "hence 14.2 % of customers left the company after end of the perieod"
   ]
  },
  {
   "cell_type": "code",
   "execution_count": null,
   "metadata": {},
   "outputs": [],
   "source": []
  }
 ],
 "metadata": {
  "kernelspec": {
   "display_name": "Python 3",
   "language": "python",
   "name": "python3"
  },
  "language_info": {
   "codemirror_mode": {
    "name": "ipython",
    "version": 3
   },
   "file_extension": ".py",
   "mimetype": "text/x-python",
   "name": "python",
   "nbconvert_exporter": "python",
   "pygments_lexer": "ipython3",
   "version": "3.8.3"
  }
 },
 "nbformat": 4,
 "nbformat_minor": 4
}
